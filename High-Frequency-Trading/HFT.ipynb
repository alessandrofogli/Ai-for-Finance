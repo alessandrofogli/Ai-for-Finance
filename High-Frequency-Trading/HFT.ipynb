{
 "cells": [
  {
   "cell_type": "code",
   "execution_count": 71,
   "metadata": {},
   "outputs": [],
   "source": [
    "import pandas as pd\n"
   ]
  },
  {
   "cell_type": "code",
   "execution_count": 194,
   "metadata": {},
   "outputs": [],
   "source": [
    "hft_data =  pd.read_csv('rolls_royce_data.csv', index_col = 1)\n",
    "hft_data['MemberID'] = hft_data['MemberID'].fillna(0)\n"
   ]
  },
  {
   "cell_type": "code",
   "execution_count": 139,
   "metadata": {},
   "outputs": [],
   "source": [
    "#hft_data = hft_data.drop(['Sequencenumber', 'InstrumentID', 'OrderCode', 'TradeCode'], axis=1)"
   ]
  },
  {
   "cell_type": "code",
   "execution_count": 197,
   "metadata": {},
   "outputs": [],
   "source": [
    "#cleaning orders\n",
    "hft_data_todelete = hft_data[hft_data['ActionType']=='U']\n",
    "hft_data_todelete = pd.concat([hft_data_todelete,hft_data['ActionType']=='D',hft_data['ActionType']=='E'])\n",
    "cond = hft_data['OrderCode'].isin(hft_data_todelete['OrderCode'])\n",
    "hft_data = hft_data.drop(hft_data[(cond) & (hft_data.ActionType == 'N')].index)\n",
    "hft_data = hft_data.drop(hft_data[(hft_data.ActionType == 'E') | (hft_data.ActionType == 'D')].index)"
   ]
  },
  {
   "cell_type": "code",
   "execution_count": null,
   "metadata": {},
   "outputs": [],
   "source": [
    "for index, row in hft_data.iterrows():\n",
    "    \n"
   ]
  }
 ],
 "metadata": {
  "kernelspec": {
   "display_name": "Python 3.10.3 64-bit",
   "language": "python",
   "name": "python3"
  },
  "language_info": {
   "codemirror_mode": {
    "name": "ipython",
    "version": 3
   },
   "file_extension": ".py",
   "mimetype": "text/x-python",
   "name": "python",
   "nbconvert_exporter": "python",
   "pygments_lexer": "ipython3",
   "version": "3.10.3"
  },
  "orig_nbformat": 4,
  "vscode": {
   "interpreter": {
    "hash": "110a4ad9b3b23ac6a757cfb6c77f1e39e8d0496598f07ec14a944919c025e818"
   }
  }
 },
 "nbformat": 4,
 "nbformat_minor": 2
}
