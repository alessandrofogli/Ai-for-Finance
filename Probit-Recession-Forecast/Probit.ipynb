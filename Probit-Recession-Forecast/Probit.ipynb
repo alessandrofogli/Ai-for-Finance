{
 "cells": [
  {
   "cell_type": "markdown",
   "metadata": {},
   "source": [
    "##  Probit models to forecast binary outcomes such as recessions\n",
    "<div style=\"text-align: right\"> Fogli Alessandro </div>\n",
    "<div style=\"text-align: right\"> ID 231273 </div>\n",
    "<div style=\"text-align: right\"> Project #3 </div>"
   ]
  },
  {
   "cell_type": "markdown",
   "metadata": {},
   "source": [
    "### Install packages"
   ]
  },
  {
   "cell_type": "code",
   "execution_count": 28,
   "metadata": {},
   "outputs": [],
   "source": [
    "import scipy.stats as si\n",
    "import pandas as pd\n",
    "import matplotlib.pyplot as plt\n",
    "import numpy as np\n",
    "import statsmodels.api as sm\n",
    "import pandas_datareader as pdr\n",
    "import datetime\n",
    "from IPython.display import display, HTML\n",
    "import datetime as dt\n",
    "import dataframe_image as dfi\n",
    "import getFamaFrenchFactors as gff\n",
    "import quandl\n",
    "from fredapi import Fred\n",
    "import config\n",
    "fred = Fred(api_key= config.fred_api)\n",
    "QUANDL_KEY = config.quandl_key\n",
    "quandl.ApiConfig.api_key = QUANDL_KEY\n",
    "from scipy import stats\n",
    "from statsmodels.base.model import GenericLikelihoodModel\n",
    "from statsmodels.discrete.discrete_model import Probit\n",
    "import statsmodels.formula.api as smf"
   ]
  },
  {
   "cell_type": "markdown",
   "metadata": {},
   "source": [
    "### Data (all quarterly)"
   ]
  },
  {
   "cell_type": "markdown",
   "metadata": {},
   "source": [
    "Get data of difference in yields between 10 year and 3 months U.S. Treasuries"
   ]
  },
  {
   "cell_type": "code",
   "execution_count": 29,
   "metadata": {},
   "outputs": [],
   "source": [
    "t10y = fred.get_series('DGS10', observation_start=\"1962-01-02\",observation_end= \"2021-12-31\",frequency='q')\n",
    "t3mo = fred.get_series('TB3MS', observation_start=\"1962-01-02\",observation_end= \"2021-12-31\",frequency='q')\n",
    "term = t10y-t3mo\n",
    "term = term.dropna()\n",
    "#term = term.tolist()\n",
    "term = term.to_frame().rename(columns={0: 'term'})\n",
    "#240"
   ]
  },
  {
   "cell_type": "markdown",
   "metadata": {},
   "source": [
    "Get data of Federal Funds Rate"
   ]
  },
  {
   "cell_type": "code",
   "execution_count": 30,
   "metadata": {},
   "outputs": [],
   "source": [
    "funds_rate = fred.get_series('FEDFUNDS', observation_start=\"1962-01-02\", observation_end= \"2021-12-31\" ,frequency='q')\n",
    "funds_rate = funds_rate.to_frame().rename(columns={0: 'funds_rate'})"
   ]
  },
  {
   "cell_type": "markdown",
   "metadata": {},
   "source": [
    "Get data of GDP Growth"
   ]
  },
  {
   "cell_type": "code",
   "execution_count": 31,
   "metadata": {},
   "outputs": [],
   "source": [
    "gdp = fred.get_series('GDP', observation_start=\"1962-01-02\", observation_end= \"2021-12-31\",frequency='q', units='pch')\n",
    "#240 miss first quarter 2022\n",
    "gdp = gdp.to_frame().rename(columns={0: 'gdp'})"
   ]
  },
  {
   "cell_type": "markdown",
   "metadata": {},
   "source": [
    "NBER based Recession Indicators for the United States"
   ]
  },
  {
   "cell_type": "code",
   "execution_count": 32,
   "metadata": {},
   "outputs": [],
   "source": [
    "nber = fred.get_series('USREC', observation_start=\"1962-01-01\", observation_end= \"2021-12-31\" ,frequency='q')\n",
    "nber = nber.astype(int)\n",
    "nber = nber.to_frame().rename(columns={0: 'nber'})"
   ]
  },
  {
   "cell_type": "markdown",
   "metadata": {},
   "source": [
    "Load data of S&P500 Futures - Jun 2022 expiring date"
   ]
  },
  {
   "cell_type": "code",
   "execution_count": 33,
   "metadata": {},
   "outputs": [],
   "source": [
    "sp500_futures = pd.read_csv('S&P 500 Futures Historical Data.csv', index_col = 0)\n",
    "sp500_futures.index = pd.to_datetime(sp500_futures.index, format= '%b %y') # date index transforming\n",
    "sp500_futures.index = sp500_futures.index + pd.offsets.MonthEnd()\n",
    "sp500_futures_rtn = sp500_futures['Change %']\n",
    "sp500_futures_rtn= sp500_futures_rtn.str.replace('%','') # remove str % from value\n",
    "sp500_futures_rtn = pd.to_numeric(sp500_futures_rtn, errors='coerce')\n",
    "sp500_futures_rtn.fillna(0, inplace=True)\n",
    "sp500_futures_rtn = sp500_futures_rtn.iloc[::-1]"
   ]
  },
  {
   "cell_type": "markdown",
   "metadata": {},
   "source": [
    "Get data of S&P500"
   ]
  },
  {
   "cell_type": "code",
   "execution_count": 34,
   "metadata": {},
   "outputs": [],
   "source": [
    "sp500 = quandl.get(\"MULTPL/SP500_REAL_PRICE_MONTH\", start_date='1961-10-01', end_date='2021-12-31', collapse=\"monthly\",authtoken=\"WcG92wpxYRRUQmyNxVxZ\")\n",
    "sp500_quarter_rtn = sp500.resample(\"3M\").mean()\n",
    "sp500_quarter_rtn = sp500_quarter_rtn.pct_change()\n",
    "sp500_quarter_rtn = sp500_quarter_rtn.dropna()\n",
    "sp500_quarter_rtn.drop(sp500_quarter_rtn.tail(1).index,inplace=True)\n",
    "sp500_quarter_rtn = sp500_quarter_rtn.apply(lambda x: x* 100)\n",
    "sp500_quarter_rtn = sp500_quarter_rtn['Value'].tolist()"
   ]
  },
  {
   "cell_type": "markdown",
   "metadata": {},
   "source": [
    "Get Fama French Data"
   ]
  },
  {
   "cell_type": "code",
   "execution_count": 35,
   "metadata": {},
   "outputs": [],
   "source": [
    "fama_data = gff.famaFrench3Factor(frequency=\"m\")\n",
    "fama_data.rename(columns={\"date_ff_factors\": 'Date'}, inplace=True)\n",
    "fama_data.set_index('Date', inplace=True)\n",
    "fama_data = fama_data.loc[fama_data.index >= '1972-02-01']\n",
    "fama_data = fama_data.loc[fama_data.index <= '2021-12-31']\n",
    "fama_data.columns = ['mkt', 'smb', 'hml', 'rf']\n",
    "fama_data = fama_data.apply(lambda x: x/ 100) # transform data in ratio"
   ]
  },
  {
   "cell_type": "markdown",
   "metadata": {},
   "source": [
    "Get Stocks data for portfolio creation"
   ]
  },
  {
   "cell_type": "code",
   "execution_count": 36,
   "metadata": {},
   "outputs": [],
   "source": [
    "tickers = ['DIS', 'CVX', 'WFC', 'BAC', 'IBM', 'PEP', 'JPM', 'GE', 'AXP', 'BRK-A']\n",
    "start = dt.datetime(1972,1,1)\n",
    "end = dt.datetime(2021,12,31)\n",
    "portfolio = pdr.get_data_yahoo(tickers, start, end, interval='m')\n",
    "portfolio.fillna(0, inplace=True)\n",
    "portfolio.index = portfolio.index + pd.offsets.MonthEnd()"
   ]
  },
  {
   "cell_type": "markdown",
   "metadata": {},
   "source": [
    "Get risky portfolio returns"
   ]
  },
  {
   "cell_type": "code",
   "execution_count": 37,
   "metadata": {},
   "outputs": [],
   "source": [
    "single_stocks_rtn = portfolio['Adj Close'].pct_change(1, fill_method='ffill')\n",
    "single_stocks_rtn.fillna(0, inplace=True)\n",
    "stocks_rtn = single_stocks_rtn.replace([np.inf, -np.inf], 0)\n",
    "wts1 = [0.1,0.1,0.1,0.1,0.1,0.1,0.1,0.1,0.1,0.1] #set weights of the stocks in the portfolio\n",
    "port_ret = (stocks_rtn* wts1).sum(axis = 1) # total montlhy return balanced by sotcks weights\n",
    "port_ret.drop(index = port_ret.index[0], axis=0, inplace=True)"
   ]
  },
  {
   "cell_type": "markdown",
   "metadata": {},
   "source": [
    "Get safe portfolio return"
   ]
  },
  {
   "cell_type": "code",
   "execution_count": 38,
   "metadata": {},
   "outputs": [],
   "source": [
    "safe_portfolio = single_stocks_rtn.join(fama_data['rf']).fillna(0)\n",
    "wts2 = [0.06, 0.06, 0.06, 0.06, 0.06, 0.06, 0.06, 0.06, 0.06, 0.06, 0.4]\n",
    "safe_port_ret = (safe_portfolio * wts2).sum(axis = 1)"
   ]
  },
  {
   "cell_type": "markdown",
   "metadata": {},
   "source": [
    "### Probit model"
   ]
  },
  {
   "cell_type": "markdown",
   "metadata": {},
   "source": [
    "A probit regression is a version of the generalized linear model used to model dichotomous outcome variables. It uses the inverse standard normal distribution as a linear combination of the predictors. The binary outcome variable Y is assumed to have a Bernoulli distribution with parameter p (where the success probability is p∈(0,1). Hence, the probit link function is:\n",
    "$$ probit(Y) = \\sum_{k=0}^n \\beta_{k} x_{ik} $$"
   ]
  },
  {
   "cell_type": "markdown",
   "metadata": {},
   "source": [
    "The Probit model assumes that the firm’s probability of recession has a cumulative standard-normal distribution, rather than a logistic distribution. However, by multiplying the results of the logistic distribution by an appropriate coefficient the distribution of the Probit model can be obtained."
   ]
  },
  {
   "cell_type": "markdown",
   "metadata": {},
   "source": [
    "### Implementing Probit model with only Term as explanatory variable"
   ]
  },
  {
   "cell_type": "code",
   "execution_count": 39,
   "metadata": {},
   "outputs": [],
   "source": [
    "term_nber = nber.join(term['term'])\n",
    "all_factors =  term.join(funds_rate['funds_rate']).join(gdp['gdp'])\n",
    "all_factors['market'] = sp500_quarter_rtn"
   ]
  },
  {
   "cell_type": "code",
   "execution_count": 40,
   "metadata": {},
   "outputs": [],
   "source": [
    "def prob_model(valx, valy, par, shiftvalue): #valx explanatory / valy dependent variable (always nber) / par is what result you want\n",
    "    \n",
    "    valx = valx.shift(shiftvalue) #switch lag and drop first val (Nan) of independent variable\n",
    " \n",
    "    valx = valx.iloc[shiftvalue: , :] #drop firs row of dependent var\n",
    "    valy = valy.iloc[shiftvalue: , :]\n",
    "    X =  valx #factors\n",
    "    y =  valy #nber\n",
    "    X = sm.add_constant(X)\n",
    "    model = Probit(y, X).fit(disp =False)\n",
    "    match par:\n",
    "        case 'rsquared':\n",
    "            return model.prsquared\n",
    "        case 'values':\n",
    "            return model.fittedvalues\n",
    "        case 'pvalues':\n",
    "            return model.pvalues[1:].values\n",
    "        case 'alpha':\n",
    "            return model.params['const']\n",
    "        case 'beta':\n",
    "            return model.params[1:].values # get all betas without alpha"
   ]
  },
  {
   "cell_type": "code",
   "execution_count": 41,
   "metadata": {},
   "outputs": [
    {
     "data": {
      "text/html": [
       "<table border=\"1\" class=\"dataframe table table-stripde\">\n",
       "  <thead>\n",
       "    <tr style=\"text-align: right;\">\n",
       "      <th></th>\n",
       "      <th>observations</th>\n",
       "      <th>Beta</th>\n",
       "      <th>Alpha</th>\n",
       "      <th>R-sq</th>\n",
       "      <th>p-val term</th>\n",
       "    </tr>\n",
       "    <tr>\n",
       "      <th>Quarter ahead</th>\n",
       "      <th></th>\n",
       "      <th></th>\n",
       "      <th></th>\n",
       "      <th></th>\n",
       "      <th></th>\n",
       "    </tr>\n",
       "  </thead>\n",
       "  <tbody>\n",
       "    <tr>\n",
       "      <th>1.0</th>\n",
       "      <td>239.0</td>\n",
       "      <td>-0.264434</td>\n",
       "      <td>-0.827559</td>\n",
       "      <td>0.050540</td>\n",
       "      <td>3.630060e-03</td>\n",
       "    </tr>\n",
       "    <tr>\n",
       "      <th>2.0</th>\n",
       "      <td>238.0</td>\n",
       "      <td>-0.487584</td>\n",
       "      <td>-0.616952</td>\n",
       "      <td>0.147561</td>\n",
       "      <td>3.301870e-06</td>\n",
       "    </tr>\n",
       "    <tr>\n",
       "      <th>3.0</th>\n",
       "      <td>237.0</td>\n",
       "      <td>-0.683002</td>\n",
       "      <td>-0.486061</td>\n",
       "      <td>0.242320</td>\n",
       "      <td>3.039846e-08</td>\n",
       "    </tr>\n",
       "    <tr>\n",
       "      <th>4.0</th>\n",
       "      <td>236.0</td>\n",
       "      <td>-0.728607</td>\n",
       "      <td>-0.461981</td>\n",
       "      <td>0.261286</td>\n",
       "      <td>1.816275e-08</td>\n",
       "    </tr>\n",
       "    <tr>\n",
       "      <th>5.0</th>\n",
       "      <td>235.0</td>\n",
       "      <td>-0.782195</td>\n",
       "      <td>-0.437563</td>\n",
       "      <td>0.275321</td>\n",
       "      <td>2.499574e-08</td>\n",
       "    </tr>\n",
       "    <tr>\n",
       "      <th>6.0</th>\n",
       "      <td>234.0</td>\n",
       "      <td>-0.668358</td>\n",
       "      <td>-0.487791</td>\n",
       "      <td>0.224262</td>\n",
       "      <td>1.438691e-07</td>\n",
       "    </tr>\n",
       "    <tr>\n",
       "      <th>7.0</th>\n",
       "      <td>233.0</td>\n",
       "      <td>-0.504975</td>\n",
       "      <td>-0.590083</td>\n",
       "      <td>0.149727</td>\n",
       "      <td>3.937937e-06</td>\n",
       "    </tr>\n",
       "    <tr>\n",
       "      <th>8.0</th>\n",
       "      <td>232.0</td>\n",
       "      <td>-0.385322</td>\n",
       "      <td>-0.684722</td>\n",
       "      <td>0.096250</td>\n",
       "      <td>1.093219e-04</td>\n",
       "    </tr>\n",
       "    <tr>\n",
       "      <th>9.0</th>\n",
       "      <td>231.0</td>\n",
       "      <td>-0.315776</td>\n",
       "      <td>-0.747504</td>\n",
       "      <td>0.067263</td>\n",
       "      <td>9.644935e-04</td>\n",
       "    </tr>\n",
       "    <tr>\n",
       "      <th>10.0</th>\n",
       "      <td>230.0</td>\n",
       "      <td>-0.306511</td>\n",
       "      <td>-0.751443</td>\n",
       "      <td>0.064160</td>\n",
       "      <td>1.226598e-03</td>\n",
       "    </tr>\n",
       "    <tr>\n",
       "      <th>11.0</th>\n",
       "      <td>229.0</td>\n",
       "      <td>-0.250297</td>\n",
       "      <td>-0.807836</td>\n",
       "      <td>0.044600</td>\n",
       "      <td>6.358045e-03</td>\n",
       "    </tr>\n",
       "    <tr>\n",
       "      <th>12.0</th>\n",
       "      <td>228.0</td>\n",
       "      <td>-0.183946</td>\n",
       "      <td>-0.883256</td>\n",
       "      <td>0.024235</td>\n",
       "      <td>4.200914e-02</td>\n",
       "    </tr>\n",
       "  </tbody>\n",
       "</table>"
      ],
      "text/plain": [
       "<IPython.core.display.HTML object>"
      ]
     },
     "metadata": {},
     "output_type": "display_data"
    }
   ],
   "source": [
    "def fill(valx, valy):\n",
    "\n",
    "    results = pd.DataFrame({ \n",
    "                    \"Quarter ahead\": [],               \n",
    "                    \"observations\": [],\n",
    "                    \"Beta\": [],\n",
    "                    \"Alpha\": [],\n",
    "                    \"R-sq\": [],\n",
    "                    \"p-val term\": [],\n",
    "                    \n",
    "                })\n",
    "    for i in range(1,13):\n",
    "        observation = len(prob_model(valx, valy, 'values',i))\n",
    "        beta = prob_model(valx, valy, 'beta',i)\n",
    "        pval = prob_model(valx, valy, 'pvalues',i)\n",
    "        alpha = prob_model(valx, valy, 'alpha',i)\n",
    "        rsq = prob_model(valx, valy, 'rsquared',i)\n",
    "        ahead = i\n",
    "\n",
    "        results.loc[i-1] = pd.Series({'Quarter ahead': ahead, 'observations': observation, 'Beta': beta[0], 'Alpha': alpha,'R-sq': rsq, 'p-val term': pval[0]}) #'Alpha': alpha,\n",
    "        \n",
    "   \n",
    "    results.set_index('Quarter ahead', inplace=True)\n",
    "    global greater\n",
    "\n",
    "    display(HTML(results.to_html(classes='table table-stripde')))\n",
    "    results['R-sq'] = pd.to_numeric(results['R-sq'])\n",
    "    greater = results[['R-sq']].idxmax()\n",
    "    #dfi.export(results, 'single_factor_table.png')\n",
    "fill(term, nber)\n"
   ]
  },
  {
   "cell_type": "markdown",
   "metadata": {},
   "source": [
    "Here the results of the models with only term as explanatory variable, as we can see the model 5 quarters ahead has the higher McFadden R-Sq (0.27), almost all p-values are statistical significance except for the last for the model with 12 quarter lag."
   ]
  },
  {
   "cell_type": "code",
   "execution_count": 42,
   "metadata": {},
   "outputs": [],
   "source": [
    "def normsdist(z):\n",
    "    z = si.norm.cdf(z,0.0,1.0)\n",
    "    return (z)"
   ]
  },
  {
   "cell_type": "code",
   "execution_count": 43,
   "metadata": {},
   "outputs": [
    {
     "data": {
      "image/png": "[encoded data removed]",
      "text/plain": [
       "<Figure size 576x360 with 1 Axes>"
      ]
     },
     "metadata": {
      "needs_background": "light"
     },
     "output_type": "display_data"
    }
   ],
   "source": [
    "def plot_val(valx, valy, shiftvalue, start, end):\n",
    "\n",
    "    values = prob_model(valx, valy, 'values', shiftvalue)\n",
    "    valy = valy.iloc[shiftvalue: , :]\n",
    "    bars = valy.reset_index().rename(columns={'index': 'date'})\n",
    "    data= valy.reset_index().rename(columns={'index': 'date'})\n",
    "    data['prob of recession'] = normsdist(values)\n",
    "\n",
    "    fig, ax = plt.subplots(figsize=(8,5))\n",
    "    ax.plot(data['date'],data['prob of recession'])\n",
    "    bars.plot.area(ax=ax, figsize=(8, 5), x='date', alpha=0.3, color=\"gray\")\n",
    "  \n",
    "    ax.legend()\n",
    "    ax.set_ylabel('Probability')\n",
    "    ax.set_title('Predictive power of slope of yield curve {} quarter ahead'.format(shiftvalue), size=18)\n",
    "    plt.xlim(start, end)\n",
    "    plt.ylim(0,0.8)\n",
    "    \n",
    "plot_val(term, nber, int(greater), \"1963-04-01\", \"2021-10-01\")"
   ]
  },
  {
   "cell_type": "markdown",
   "metadata": {},
   "source": [
    "### Probit model with 4 factors as explanatory variables"
   ]
  },
  {
   "cell_type": "code",
   "execution_count": 44,
   "metadata": {},
   "outputs": [
    {
     "data": {
      "text/html": [
       "<table border=\"1\" class=\"dataframe table table-stripde\">\n",
       "  <thead>\n",
       "    <tr style=\"text-align: right;\">\n",
       "      <th></th>\n",
       "      <th>observations</th>\n",
       "      <th>Beta term</th>\n",
       "      <th>p-val term</th>\n",
       "      <th>Beta funds_rate</th>\n",
       "      <th>p-val funds_rate</th>\n",
       "      <th>Beta gdp</th>\n",
       "      <th>p-val gdp</th>\n",
       "      <th>Beta market</th>\n",
       "      <th>p-val market</th>\n",
       "      <th>Alpha</th>\n",
       "      <th>R-sq</th>\n",
       "    </tr>\n",
       "    <tr>\n",
       "      <th>Quarter ahead</th>\n",
       "      <th></th>\n",
       "      <th></th>\n",
       "      <th></th>\n",
       "      <th></th>\n",
       "      <th></th>\n",
       "      <th></th>\n",
       "      <th></th>\n",
       "      <th></th>\n",
       "      <th></th>\n",
       "      <th></th>\n",
       "      <th></th>\n",
       "    </tr>\n",
       "  </thead>\n",
       "  <tbody>\n",
       "    <tr>\n",
       "      <th>1.0</th>\n",
       "      <td>239.0</td>\n",
       "      <td>-0.072990</td>\n",
       "      <td>0.547969</td>\n",
       "      <td>0.209541</td>\n",
       "      <td>0.000003</td>\n",
       "      <td>-0.243903</td>\n",
       "      <td>0.010239</td>\n",
       "      <td>-0.112910</td>\n",
       "      <td>0.000002</td>\n",
       "      <td>-2.129558</td>\n",
       "      <td>0.440387</td>\n",
       "    </tr>\n",
       "    <tr>\n",
       "      <th>2.0</th>\n",
       "      <td>238.0</td>\n",
       "      <td>-0.313665</td>\n",
       "      <td>0.012519</td>\n",
       "      <td>0.176195</td>\n",
       "      <td>0.000025</td>\n",
       "      <td>-0.199186</td>\n",
       "      <td>0.035398</td>\n",
       "      <td>-0.071570</td>\n",
       "      <td>0.000682</td>\n",
       "      <td>-1.633266</td>\n",
       "      <td>0.374246</td>\n",
       "    </tr>\n",
       "    <tr>\n",
       "      <th>3.0</th>\n",
       "      <td>237.0</td>\n",
       "      <td>-0.500695</td>\n",
       "      <td>0.000224</td>\n",
       "      <td>0.143715</td>\n",
       "      <td>0.000388</td>\n",
       "      <td>-0.144052</td>\n",
       "      <td>0.141357</td>\n",
       "      <td>-0.044009</td>\n",
       "      <td>0.043443</td>\n",
       "      <td>-1.320739</td>\n",
       "      <td>0.363914</td>\n",
       "    </tr>\n",
       "    <tr>\n",
       "      <th>4.0</th>\n",
       "      <td>236.0</td>\n",
       "      <td>-0.546606</td>\n",
       "      <td>0.000055</td>\n",
       "      <td>0.118050</td>\n",
       "      <td>0.002706</td>\n",
       "      <td>-0.037954</td>\n",
       "      <td>0.724007</td>\n",
       "      <td>-0.016975</td>\n",
       "      <td>0.441098</td>\n",
       "      <td>-1.277780</td>\n",
       "      <td>0.324381</td>\n",
       "    </tr>\n",
       "    <tr>\n",
       "      <th>5.0</th>\n",
       "      <td>235.0</td>\n",
       "      <td>-0.615455</td>\n",
       "      <td>0.000029</td>\n",
       "      <td>0.110817</td>\n",
       "      <td>0.007051</td>\n",
       "      <td>-0.003473</td>\n",
       "      <td>0.976759</td>\n",
       "      <td>0.031202</td>\n",
       "      <td>0.200508</td>\n",
       "      <td>-1.318471</td>\n",
       "      <td>0.327009</td>\n",
       "    </tr>\n",
       "    <tr>\n",
       "      <th>6.0</th>\n",
       "      <td>234.0</td>\n",
       "      <td>-0.560031</td>\n",
       "      <td>0.000066</td>\n",
       "      <td>0.085661</td>\n",
       "      <td>0.038387</td>\n",
       "      <td>0.151672</td>\n",
       "      <td>0.294540</td>\n",
       "      <td>0.043151</td>\n",
       "      <td>0.077801</td>\n",
       "      <td>-1.474046</td>\n",
       "      <td>0.286144</td>\n",
       "    </tr>\n",
       "    <tr>\n",
       "      <th>7.0</th>\n",
       "      <td>233.0</td>\n",
       "      <td>-0.469180</td>\n",
       "      <td>0.000413</td>\n",
       "      <td>0.049227</td>\n",
       "      <td>0.226557</td>\n",
       "      <td>0.374501</td>\n",
       "      <td>0.006234</td>\n",
       "      <td>0.048882</td>\n",
       "      <td>0.046826</td>\n",
       "      <td>-1.730264</td>\n",
       "      <td>0.247423</td>\n",
       "    </tr>\n",
       "    <tr>\n",
       "      <th>8.0</th>\n",
       "      <td>232.0</td>\n",
       "      <td>-0.329146</td>\n",
       "      <td>0.004470</td>\n",
       "      <td>0.022651</td>\n",
       "      <td>0.553546</td>\n",
       "      <td>0.379431</td>\n",
       "      <td>0.003426</td>\n",
       "      <td>0.017705</td>\n",
       "      <td>0.420839</td>\n",
       "      <td>-1.612878</td>\n",
       "      <td>0.170903</td>\n",
       "    </tr>\n",
       "    <tr>\n",
       "      <th>9.0</th>\n",
       "      <td>231.0</td>\n",
       "      <td>-0.266969</td>\n",
       "      <td>0.014144</td>\n",
       "      <td>0.025264</td>\n",
       "      <td>0.488913</td>\n",
       "      <td>0.166716</td>\n",
       "      <td>0.190025</td>\n",
       "      <td>0.020880</td>\n",
       "      <td>0.307253</td>\n",
       "      <td>-1.288957</td>\n",
       "      <td>0.093531</td>\n",
       "    </tr>\n",
       "    <tr>\n",
       "      <th>10.0</th>\n",
       "      <td>230.0</td>\n",
       "      <td>-0.268275</td>\n",
       "      <td>0.014017</td>\n",
       "      <td>0.003518</td>\n",
       "      <td>0.923997</td>\n",
       "      <td>0.216027</td>\n",
       "      <td>0.085504</td>\n",
       "      <td>-0.018890</td>\n",
       "      <td>0.302279</td>\n",
       "      <td>-1.166104</td>\n",
       "      <td>0.087433</td>\n",
       "    </tr>\n",
       "    <tr>\n",
       "      <th>11.0</th>\n",
       "      <td>229.0</td>\n",
       "      <td>-0.243241</td>\n",
       "      <td>0.025594</td>\n",
       "      <td>-0.021674</td>\n",
       "      <td>0.581587</td>\n",
       "      <td>0.326471</td>\n",
       "      <td>0.010816</td>\n",
       "      <td>-0.006841</td>\n",
       "      <td>0.708660</td>\n",
       "      <td>-1.263944</td>\n",
       "      <td>0.083885</td>\n",
       "    </tr>\n",
       "    <tr>\n",
       "      <th>12.0</th>\n",
       "      <td>228.0</td>\n",
       "      <td>-0.190481</td>\n",
       "      <td>0.075783</td>\n",
       "      <td>-0.031181</td>\n",
       "      <td>0.431182</td>\n",
       "      <td>0.336834</td>\n",
       "      <td>0.008523</td>\n",
       "      <td>0.001321</td>\n",
       "      <td>0.942764</td>\n",
       "      <td>-1.303519</td>\n",
       "      <td>0.066803</td>\n",
       "    </tr>\n",
       "  </tbody>\n",
       "</table>"
      ],
      "text/plain": [
       "<IPython.core.display.HTML object>"
      ]
     },
     "metadata": {},
     "output_type": "display_data"
    }
   ],
   "source": [
    "def fill2(valx, valy):\n",
    "\n",
    "    results = pd.DataFrame({ \n",
    "                    \"Quarter ahead\": [],               \n",
    "                    \"observations\": [],\n",
    "                    \"Beta term\": [], \"p-val term\": [],\n",
    "                    \"Beta funds_rate\": [], \"p-val funds_rate\": [],\n",
    "                    \"Beta gdp\": [], \"p-val gdp\": [],\n",
    "                    \"Beta market\": [], \"p-val market\": [],\n",
    "                    \"Alpha\": [],\n",
    "                    \"R-sq\": [],\n",
    "                    \n",
    "                    \n",
    "                })\n",
    "    for i in range(1,13):\n",
    "        observation = len(prob_model(valx, valy, 'values',i))\n",
    "        beta = prob_model(valx, valy, 'beta',i)\n",
    "        pval = prob_model(valx, valy, 'pvalues',i)\n",
    "        alpha = prob_model(valx, valy, 'alpha',i)\n",
    "        rsq = prob_model(valx, valy, 'rsquared',i)\n",
    "        ahead = i\n",
    "\n",
    "        results.loc[i-1] = pd.Series({\n",
    "                    'Quarter ahead': ahead, \n",
    "                    'observations': observation, \n",
    "                    'Beta term': beta[0], \"p-val term\": pval[0],\n",
    "                    \"Beta funds_rate\": beta[1], \"p-val funds_rate\": pval[1],\n",
    "                    \"Beta gdp\": beta[2], \"p-val gdp\": pval[2],\n",
    "                    \"Beta market\": beta[3], \"p-val market\": pval[3],\n",
    "                    'Alpha': alpha,\n",
    "                    'R-sq': rsq, \n",
    "                })\n",
    "   \n",
    "    results.set_index('Quarter ahead', inplace=True)\n",
    "    global greater2\n",
    "\n",
    "    display(HTML(results.to_html(classes='table table-stripde')))\n",
    "    results['R-sq'] = pd.to_numeric(results['R-sq'])\n",
    "    greater2 = results[['R-sq']].idxmax()\n",
    "    #dfi.export(results, 'multi_factor_table.png')\n",
    "fill2(all_factors, nber)"
   ]
  },
  {
   "cell_type": "markdown",
   "metadata": {},
   "source": [
    "Above the results of the models with only term as explanatory variable, as we can see the first model with 1 quarters ahead has the higher McFadden R-Sq (0.44).  \n",
    "The first model has one factor (term) which is not statistically significant so we can drop it but keep the other factors."
   ]
  },
  {
   "cell_type": "code",
   "execution_count": 45,
   "metadata": {},
   "outputs": [
    {
     "data": {
      "image/png": "[encoded data removed]",
      "text/plain": [
       "<Figure size 576x360 with 1 Axes>"
      ]
     },
     "metadata": {
      "needs_background": "light"
     },
     "output_type": "display_data"
    }
   ],
   "source": [
    "all_factors2 = all_factors.drop(['term'], axis=1)\n",
    "plot_val(all_factors2, nber, int(greater2), \"1963-04-01\",\"2021-10-01\")"
   ]
  },
  {
   "cell_type": "markdown",
   "metadata": {},
   "source": [
    "Now that we have 24 models we can plot the best one (highest McFadden R-Sq) and see the results during the crisis period in 2008.  \n",
    "In this situation the best model is one quarter ahead with the following factors: funds rate, gdp growth, market."
   ]
  },
  {
   "cell_type": "code",
   "execution_count": 46,
   "metadata": {},
   "outputs": [
    {
     "data": {
      "image/png": "[encoded data removed]",
      "text/plain": [
       "<Figure size 576x360 with 1 Axes>"
      ]
     },
     "metadata": {
      "needs_background": "light"
     },
     "output_type": "display_data"
    }
   ],
   "source": [
    "plot_val(all_factors2, nber, int(greater2), \"2006-01-01\",\"2010-10-01\")"
   ]
  },
  {
   "cell_type": "markdown",
   "metadata": {},
   "source": [
    "The multifactor model with Us treasury, gdp growth, market and funds rate as factors is the one which signed the highest value of McFadden R-Sq (0.44). However, looking at the 2007-2009 crisis period, we can see that it did not perform very well over that period. The model performs quite well over the whole period but during the 2008 crisi it has the peak of probability near the end of the recession period. If I need to decide using this model I would hedge at the start of the last quarter of 2006."
   ]
  },
  {
   "cell_type": "code",
   "execution_count": 47,
   "metadata": {},
   "outputs": [
    {
     "data": {
      "image/png": "[encoded data removed]",
      "text/plain": [
       "<Figure size 576x360 with 1 Axes>"
      ]
     },
     "metadata": {
      "needs_background": "light"
     },
     "output_type": "display_data"
    }
   ],
   "source": [
    "plot_val(term, nber, int(greater), \"2006-01-01\",\"2010-10-01\")"
   ]
  },
  {
   "cell_type": "markdown",
   "metadata": {},
   "source": [
    "Here above we can see the best model among the single factor ones (only term as explanatory variable).  \n",
    "As we can see it would have performed well by predicting a recession period with a probability near to 40% before the crisis.  \n",
    "However we know that this model has a McFadden R-Sq value lower than the previous one, for that reason I keep the multi factors model with 1 quarter lag."
   ]
  },
  {
   "cell_type": "markdown",
   "metadata": {},
   "source": [
    "### Analysis of different strategies"
   ]
  },
  {
   "cell_type": "markdown",
   "metadata": {},
   "source": [
    "#### Just hold stocks"
   ]
  },
  {
   "cell_type": "code",
   "execution_count": 48,
   "metadata": {},
   "outputs": [
    {
     "name": "stdout",
     "output_type": "stream",
     "text": [
      "With a portfolio of $1000000 at 2006-09-30 without hedging I would have had 615245 $ at 2009-3-31\n",
      "It is -42% of the total investment\n"
     ]
    }
   ],
   "source": [
    "port_ret_crisis = port_ret.loc['2006-9-30' : '2009-3-31']\n",
    "portfolio_cum_returns = (port_ret_crisis + 1).cumprod()\n",
    "portfolio_no_hedge_value = (round(portfolio_cum_returns[-1]*1000000))\n",
    "portfolio_no_hedge_value_change = (portfolio_cum_returns[-1]-portfolio_cum_returns[0])*100\n",
    "print('With a portfolio of $1000000 at 2006-09-30 without hedging I would have had {} $ at 2009-3-31'.format(portfolio_no_hedge_value))\n",
    "print('It is {}% of the total investment'.format(round(portfolio_no_hedge_value_change)))"
   ]
  },
  {
   "cell_type": "markdown",
   "metadata": {},
   "source": [
    "### Hedge by shorting S&P500 Futures"
   ]
  },
  {
   "cell_type": "markdown",
   "metadata": {},
   "source": [
    "We can compute the number of futures needed with the following formula:  \n",
    "\n",
    "\n",
    "$$N_{futures} : \\beta(\\frac{Portfolio_{value}}{Futures_{price}* Futures_{point value}})$$"
   ]
  },
  {
   "cell_type": "code",
   "execution_count": 49,
   "metadata": {},
   "outputs": [],
   "source": [
    "def beta(valx, valy):\n",
    "    X = valx\n",
    "    y = valy\n",
    "    slope, intercept, r_value, p_value, std_err = stats.linregress(X, y)\n",
    "    return round(slope,4)"
   ]
  },
  {
   "cell_type": "markdown",
   "metadata": {},
   "source": [
    "We need to compute the hedge ratio up to the period in which we decide to hedge"
   ]
  },
  {
   "cell_type": "code",
   "execution_count": 50,
   "metadata": {},
   "outputs": [],
   "source": [
    "sp500_up_to_hedge = sp500_futures_rtn.loc['1997-11-01': '2006-09-30']\n",
    "port_ret_up_to_hedge = port_ret.loc['1997-11-01': '2006-09-30'].apply(lambda x: x* 100)"
   ]
  },
  {
   "cell_type": "code",
   "execution_count": 51,
   "metadata": {},
   "outputs": [
    {
     "data": {
      "text/plain": [
       "4.025222874537943"
      ]
     },
     "execution_count": 51,
     "metadata": {},
     "output_type": "execute_result"
    }
   ],
   "source": [
    "def futures_hedging_number():\n",
    "    slope = beta(sp500_up_to_hedge, port_ret_up_to_hedge) #data len should match, we have less futures historical data\n",
    "    sp500_futures['Price']= sp500_futures['Price'].str.replace(',','')\n",
    "    futures_price = pd.to_numeric(sp500_futures['Price'])\n",
    "    futures_price = futures_price.iloc[0]\n",
    "    futures_price = pd.to_numeric(futures_price)\n",
    "    futures_number = slope * (1000000/(futures_price*50)) #we are multiplying the futures price for the point value, here 50$ for S&P500 E-mini\n",
    "    return futures_number\n",
    "futures_hedging_number()"
   ]
  },
  {
   "cell_type": "markdown",
   "metadata": {},
   "source": [
    "Based on that I know that at the start of the last quarter of 2006 I should have shorted #4 S&P500 Futures, that's because I was long with my stocks portfolio and I want to be short on the market."
   ]
  },
  {
   "cell_type": "code",
   "execution_count": 52,
   "metadata": {},
   "outputs": [],
   "source": [
    "def percentage_change(current_value, previous_value):\n",
    "    change = ((current_value - previous_value) / previous_value) * 100.0\n",
    "    return change"
   ]
  },
  {
   "cell_type": "code",
   "execution_count": 53,
   "metadata": {},
   "outputs": [
    {
     "name": "stdout",
     "output_type": "stream",
     "text": [
      "Short position at 2006-9-30 --> 270777 $\n",
      "S&P500 Futures price 2009-3-31 --> 159952 $\n",
      "Position at 2009-3-31 --> 381601$\n",
      "gain of 41 %\n",
      "net gain 110824 $\n",
      "portfolio + hedge gain --> 726069 $\n",
      "With hedge -27 % of initial investment\n"
     ]
    }
   ],
   "source": [
    "futures_price_start = sp500_futures['Price'].loc['2006-9-30']\n",
    "futures_price_start = pd.to_numeric(futures_price_start)\n",
    "futures_price_end = sp500_futures['Price'].loc['2009-3-31']\n",
    "futures_price_end = pd.to_numeric(futures_price_end)\n",
    "\n",
    "contract_value_start = (futures_price_start * futures_hedging_number())*50 # value of the futures contract at the start of the period\n",
    "contract_value_end= (futures_price_end * futures_hedging_number())*50 # value of the futures contract at the end of the period\n",
    "futures_gain = (percentage_change(contract_value_end, contract_value_start)*-1) # multiplied for -1 since we are shorting so we get the opposite of the actual return\n",
    "short_position_end = (contract_value_start*(futures_gain/100))+ contract_value_start # invested futures amount + futures net los/gain\n",
    "futures_net_gain = contract_value_start * (futures_gain/100)\n",
    "print('Short position at 2006-9-30 --> {} $'.format(round(contract_value_start)))\n",
    "print('S&P500 Futures price 2009-3-31 --> {} $'.format(round(contract_value_end)))\n",
    "\n",
    "print('Position at 2009-3-31 --> {}$'.format(round(short_position_end)))\n",
    "\n",
    "print('gain of {} %'.format(round(futures_gain)))\n",
    "print('net gain {} $'.format(round(futures_net_gain)))\n",
    "print('portfolio + hedge gain --> {} $'.format(round(portfolio_no_hedge_value + futures_net_gain)))\n",
    "print('With hedge {} % of initial investment'.format(round(percentage_change((portfolio_no_hedge_value + futures_net_gain), 1000000))))"
   ]
  },
  {
   "cell_type": "markdown",
   "metadata": {},
   "source": [
    "Assuming I shorted at the start of the last quarter of 2006, by shorting my optimal hedge ratio of #4 S&P5OO Futures I would have had a loss of -27% in March 2009.  \n",
    "If I hadn't hedged I would have had a loss of -41% from my portfolio of stock.  \n",
    "By hedging I could have had a 14% reduction of the total loss without hedging (41%), in that situation, whit a portfolio of \\$1 million, the savings amount is worth \\$ 108000.  \n",
    "In this situation short the S&P500 to reduce the systematic risk would have been a good choice."
   ]
  },
  {
   "cell_type": "markdown",
   "metadata": {},
   "source": [
    "#### Shift toward safer portfolio"
   ]
  },
  {
   "cell_type": "code",
   "execution_count": 54,
   "metadata": {},
   "outputs": [
    {
     "name": "stdout",
     "output_type": "stream",
     "text": [
      "With a portfolio of $1000000 at 2006-09-30 without hedging I would have had 765817 $ at 2009-3-31\n",
      "It is -25% of the total investment\n"
     ]
    }
   ],
   "source": [
    "safe_port_ret_crisis = safe_port_ret.loc['2006-9-30' : '2009-3-31']\n",
    "safe_cum_returns = (safe_port_ret_crisis + 1).cumprod()\n",
    "safe_portfolio_value = (round(safe_cum_returns[-1]*1000000))\n",
    "print('With a portfolio of $1000000 at 2006-09-30 without hedging I would have had {} $ at 2009-3-31'.format(safe_portfolio_value))\n",
    "print('It is {}% of the total investment'.format(round((safe_cum_returns[-1]-safe_cum_returns[0])*100)))"
   ]
  },
  {
   "cell_type": "markdown",
   "metadata": {},
   "source": [
    "As we can see if I have shifted towards a safer portfolio with around 40% of riskfree I would have had a loss of -25% in 2008 crisis.  \n",
    "It is a better result respect to the S&P500 Futures short with a reduction of 2% of total loss of the previous strategy (-27%).  \n",
    "In conclusion the best strategy it would have been to shift to a safer portfolio by adding a riskfree (-25% over the period), then even shorting the market would have been a good move but with worst results (-27% over the period).  \n",
    "Finally of course only holding our risky stocks would have been the worst choice (-41% over the period)"
   ]
  }
 ],
 "metadata": {
  "interpreter": {
   "hash": "655b934297ea95474237e21d64939816d9d8fb66ad0275d6d652a001de804914"
  },
  "kernelspec": {
   "display_name": "Python 3.10.3 64-bit",
   "language": "python",
   "name": "python3"
  },
  "language_info": {
   "codemirror_mode": {
    "name": "ipython",
    "version": 3
   },
   "file_extension": ".py",
   "mimetype": "text/x-python",
   "name": "python",
   "nbconvert_exporter": "python",
   "pygments_lexer": "ipython3",
   "version": "3.10.3"
  },
  "orig_nbformat": 4
 },
 "nbformat": 4,
 "nbformat_minor": 2
}
