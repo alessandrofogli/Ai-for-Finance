{
 "cells": [
  {
   "cell_type": "markdown",
   "metadata": {},
   "source": [
    "## <center> Multi factor Model and Futures </center>"
   ]
  },
  {
   "cell_type": "markdown",
   "metadata": {},
   "source": [
    "### Install packages"
   ]
  },
  {
   "cell_type": "code",
   "execution_count": 2,
   "metadata": {},
   "outputs": [],
   "source": [
    "from scipy import stats\n",
    "import pandas as pd\n",
    "import numpy as np\n",
    "import statsmodels.api as sm\n",
    "import yfinance as yf\n",
    "import pandas_datareader as pdr\n",
    "from IPython.display import display, HTML\n",
    "import datetime as dt\n",
    "import getFamaFrenchFactors as gff\n",
    "from fredapi import Fred\n",
    "fred = Fred(api_key='8e31dd837475abc71d8beb8400da3bdf')"
   ]
  },
  {
   "cell_type": "markdown",
   "metadata": {},
   "source": [
    "### Data"
   ]
  },
  {
   "cell_type": "markdown",
   "metadata": {},
   "source": [
    "Get data of difference in yields between BAA and AAA rated U.S. corporate bonds."
   ]
  },
  {
   "cell_type": "code",
   "execution_count": 3,
   "metadata": {},
   "outputs": [],
   "source": [
    "BAA = fred.get_series('BAA', observation_start=\"1992-02-01\", observation_end=\"2022-02-01\", frequency='m')\n",
    "AAA = fred.get_series('AAA', observation_start=\"1992-02-01\", observation_end=\"2022-02-01\", frequency='m')\n",
    "credit = BAA-AAA\n",
    "credit = credit.tolist()"
   ]
  },
  {
   "cell_type": "markdown",
   "metadata": {},
   "source": [
    "Get data of difference in yields between 10 year and 3 months U.S. Treasuries"
   ]
  },
  {
   "cell_type": "code",
   "execution_count": 4,
   "metadata": {},
   "outputs": [],
   "source": [
    "term = fred.get_series('T10Y3M', observation_start=\"1992-02-01\", observation_end= \"2022-02-01\" ,frequency='m')\n",
    "term = term.tolist()"
   ]
  },
  {
   "cell_type": "markdown",
   "metadata": {},
   "source": [
    "Get data of S$P 500 "
   ]
  },
  {
   "cell_type": "code",
   "execution_count": 5,
   "metadata": {},
   "outputs": [
    {
     "name": "stdout",
     "output_type": "stream",
     "text": [
      "[*********************100%***********************]  1 of 1 completed\n"
     ]
    }
   ],
   "source": [
    "sp500 = yf.download('^GSPC','1992-01-01','2022-03-01', interval ='1mo')\n",
    "sp500_rtn = sp500.pct_change()\n",
    "sp500_rtn = sp500_rtn['Adj Close']\n",
    "sp500_rtn.fillna(0, inplace=True)\n",
    "sp500_rtn.drop(index = sp500_rtn.index[0], axis=0, inplace=True)\n",
    "sp500_rtn = sp500_rtn.apply(lambda x: x* 100) # get % return\n",
    "sp500_rtn.index = sp500_rtn.index + pd.offsets.MonthEnd()"
   ]
  },
  {
   "cell_type": "markdown",
   "metadata": {},
   "source": [
    "Get Fama French Data"
   ]
  },
  {
   "cell_type": "code",
   "execution_count": 6,
   "metadata": {},
   "outputs": [],
   "source": [
    "fama_data = gff.famaFrench3Factor(frequency=\"m\")\n",
    "fama_data.rename(columns={\"date_ff_factors\": 'Date'}, inplace=True)\n",
    "fama_data.set_index('Date', inplace=True)\n",
    "fama_data = fama_data.loc[fama_data.index >= '1992-02-01']\n",
    "fama_data = fama_data.loc[fama_data.index <= '2022-02-28']\n",
    "fama_data.columns = ['mkt', 'smb', 'hml', 'rf']\n",
    "fama_data = fama_data.drop('mkt', axis=1)\n",
    "fama_data = fama_data.apply(lambda x: x* 100) # transform data in %"
   ]
  },
  {
   "cell_type": "code",
   "execution_count": 7,
   "metadata": {},
   "outputs": [],
   "source": [
    "ff_data = fama_data\n",
    "ff_data['credit'] = credit\n",
    "ff_data['term'] = term\n",
    "ff_data['mkt'] = sp500_rtn\n",
    "ff_data.fillna(0, inplace=True)\n",
    "ff_data = ff_data.replace([np.inf, -np.inf], 0)\n",
    "factors = ff_data.drop(['rf'], axis=1)"
   ]
  },
  {
   "cell_type": "markdown",
   "metadata": {},
   "source": [
    "Load data of S&P500 Futures - Jun 2022 expiring date"
   ]
  },
  {
   "cell_type": "code",
   "execution_count": 8,
   "metadata": {},
   "outputs": [],
   "source": [
    "sp500_futures = pd.read_csv('S&P 500 Futures Historical Data.csv', index_col = 0)\n",
    "sp500_futures.index = pd.to_datetime(sp500_futures.index, format= '%b %y') # date index transforming\n",
    "sp500_futures.index = sp500_futures.index + pd.offsets.MonthEnd()\n",
    "sp500_futures_rtn = sp500_futures['Change %']\n",
    "sp500_futures_rtn= sp500_futures_rtn.str.replace('%','') # remove str % from value\n",
    "sp500_futures_rtn = pd.to_numeric(sp500_futures_rtn, errors='coerce')\n",
    "sp500_futures_rtn.fillna(0, inplace=True)\n",
    "sp500_futures_rtn = sp500_futures_rtn.iloc[::-1]\n",
    "sp500_futures_rtn.drop(sp500_futures_rtn.tail(1).index,inplace=True) # adjusting size to match stocks month"
   ]
  },
  {
   "cell_type": "markdown",
   "metadata": {},
   "source": [
    "Get data of The Walt Disney stock"
   ]
  },
  {
   "cell_type": "code",
   "execution_count": 9,
   "metadata": {},
   "outputs": [
    {
     "name": "stdout",
     "output_type": "stream",
     "text": [
      "[*********************100%***********************]  1 of 1 completed\n"
     ]
    }
   ],
   "source": [
    "disney = yf.download('DIS','1992-01-01','2022-03-1', interval ='1mo')\n",
    "disney = disney.dropna()\n",
    "disney_change = disney.pct_change()\n",
    "disney_rtn = disney_change['Adj Close']\n",
    "disney_rtn.fillna(0, inplace=True)\n",
    "disney_rtn.drop(index = disney_rtn.index[0], axis=0, inplace=True)\n",
    "disney_rtn = disney_rtn.apply(lambda x: x* 100) # get % return\n",
    "disney_rtn.index = disney_rtn.index + pd.offsets.MonthEnd()"
   ]
  },
  {
   "cell_type": "markdown",
   "metadata": {},
   "source": [
    "Get Stocks data for portfolio creation"
   ]
  },
  {
   "cell_type": "code",
   "execution_count": 10,
   "metadata": {},
   "outputs": [],
   "source": [
    "tickers = ['DIS', 'CVX', 'WFC', 'BAC', 'IBM', 'PEP', 'JPM', 'GE', 'AXP', 'BRK-A']\n",
    "start = dt.datetime(1992,1,1)\n",
    "end = dt.datetime(2022,2,28)\n",
    "portfolio = pdr.get_data_yahoo(tickers, start, end, interval='m')\n",
    "portfolio.fillna(0, inplace=True)\n",
    "portfolio.index = portfolio.index + pd.offsets.MonthEnd()"
   ]
  },
  {
   "cell_type": "code",
   "execution_count": 11,
   "metadata": {},
   "outputs": [],
   "source": [
    "single_stocks_rtn = portfolio['Adj Close'].pct_change(1, fill_method='ffill')\n",
    "single_stocks_rtn.fillna(0, inplace=True)\n",
    "stocks_rtn = single_stocks_rtn.replace([np.inf, -np.inf], 0)\n",
    "wts1 = [0.1,0.1,0.1,0.1,0.1,0.1,0.1,0.1,0.1,0.1] #set weights of the stocks in the portfolio\n",
    "port_ret = (stocks_rtn* wts1).sum(axis = 1) # total montlhy return balanced by sotcks weights\n",
    "port_ret.drop(index = port_ret.index[0], axis=0, inplace=True)\n",
    "port_ret = port_ret.apply(lambda x: x* 100)"
   ]
  },
  {
   "cell_type": "markdown",
   "metadata": {},
   "source": [
    "### Multi-factor model\n",
    "\n",
    "\"A multi-factor model is a financial model that employs multiple factors in its calculations to explain market phenomena and/or equilibrium asset prices. A multi-factor model can be used to explain either an individual security or a portfolio of securities. It does so by comparing two or more factors to analyze relationships between variables and the resulting performance.\"\n",
    "<a href=\"https://www.investopedia.com/terms/m/multifactor-model.asp#:~:text=A%20multi%2Dfactor%20model%20is,or%20a%20portfolio%20of%20securities.\" title=\"Investopedia\">Investopedia</a>\n",
    "\n",
    "In the previous project we considered the market return as the only factor affecting the return of any asset/portfolio with the following formula:  \n",
    "\n",
    "$E_{r} : α + β_{1}(R_{m}-R_{f}) + \\epsilon$  \n",
    "\n",
    "In this project we are also considering other factors deriving the following formula:\n",
    "  \n",
    "$E_{r} : α + β_{1}Mkt + β_{2}SMB + β_{3}HML + β_{4}Term + β_{5}Credit + \\epsilon$\n",
    "\n",
    "Where:\n",
    "- <strong>$E_{r}$</strong> : expected return of stock/portfolio\n",
    "- <strong>α</strong> : intercept\n",
    "- <strong>$β_{i}$</strong> : slope coefficient for each explanatory variable\n",
    "- <strong>MKT</strong> : the excess return of the market. It's the value-weighted return of all CRSP firms incorporated in the US and\n",
    "listed on the NYSE, AMEX, or NASDAQ minus the 1-month Treasury Bill rate.\n",
    "- <strong>SMB</strong> : (Small Minus Big) measures the excess return of stocks with small market cap over those with larger market cap. It's a size discriminant factor also called (Short-Long portoflio), long on small companies stock and short on big companies stock. The use of this factor helps to include in the evaluation the size of the companies in the portfolio which is not considered with only the risk premium as factor.\n",
    "- <strong>HML</strong> : (High Minus Low) measures the excess return of value stocks over growth stocks. Value stocks have high book to price ratio (B/P) than growth stocks. It is a disciminant value, usually small companies have high evaluation (book value) compared to market value. There are 2 values:\n",
    "    - growth : young corporations have a market value > book value\n",
    "    - mature/value stocks : corporations have market value < book value\n",
    "- <strong>term</strong> : difference in yields between 10 year and 3 months U.S. Treasuries;\n",
    "- <strong>credit</strong> : difference in yields between BAA and AAA rated U.S. corporate bonds\n",
    "- <strong>$\\epsilon$</strong> : model error term (residual)\n",
    "\n",
    "We can say 'even if ... valuation' no statistically signif.\n"
   ]
  },
  {
   "cell_type": "markdown",
   "metadata": {},
   "source": [
    "### Multi factor with one stock"
   ]
  },
  {
   "cell_type": "markdown",
   "metadata": {},
   "source": [
    "Defining a function to make a regression with explanatory variable (our factors) and dependent variable (stocks return)"
   ]
  },
  {
   "cell_type": "code",
   "execution_count": 12,
   "metadata": {},
   "outputs": [],
   "source": [
    "def regression(explanatory, dependent):\n",
    "    X = explanatory\n",
    "    y = dependent\n",
    "    #X1 = sm.add_constant(X)\n",
    "    # make regression model \n",
    "    ff_model = sm.OLS(y, X).fit()\n",
    "    # fit model and print results\n",
    "    print(ff_model.summary())\n",
    "    global saved_values\n",
    "    saved_values = ff_model.params\n",
    "    saved_values = saved_values.tolist()"
   ]
  },
  {
   "cell_type": "markdown",
   "metadata": {},
   "source": [
    "Regression between The Walt Disney Stock and our factors"
   ]
  },
  {
   "cell_type": "code",
   "execution_count": 13,
   "metadata": {},
   "outputs": [
    {
     "name": "stdout",
     "output_type": "stream",
     "text": [
      "                                 OLS Regression Results                                \n",
      "=======================================================================================\n",
      "Dep. Variable:                      y   R-squared (uncentered):                   0.466\n",
      "Model:                            OLS   Adj. R-squared (uncentered):              0.464\n",
      "Method:                 Least Squares   F-statistic:                              313.7\n",
      "Date:                Sun, 03 Apr 2022   Prob (F-statistic):                    6.30e-51\n",
      "Time:                        20:04:43   Log-Likelihood:                         -1003.9\n",
      "No. Observations:                 361   AIC:                                      2010.\n",
      "Df Residuals:                     360   BIC:                                      2014.\n",
      "Df Model:                           1                                                  \n",
      "Covariance Type:            nonrobust                                                  \n",
      "==============================================================================\n",
      "                 coef    std err          t      P>|t|      [0.025      0.975]\n",
      "------------------------------------------------------------------------------\n",
      "Adj Close      0.4930      0.028     17.711      0.000       0.438       0.548\n",
      "==============================================================================\n",
      "Omnibus:                       11.645   Durbin-Watson:                   2.109\n",
      "Prob(Omnibus):                  0.003   Jarque-Bera (JB):               21.306\n",
      "Skew:                          -0.134   Prob(JB):                     2.36e-05\n",
      "Kurtosis:                       4.160   Cond. No.                         1.00\n",
      "==============================================================================\n",
      "\n",
      "Notes:\n",
      "[1] R² is computed without centering (uncentered) since the model does not contain a constant.\n",
      "[2] Standard Errors assume that the covariance matrix of the errors is correctly specified.\n"
     ]
    }
   ],
   "source": [
    "regression(disney_rtn, (port_ret - ff_data['rf']))"
   ]
  },
  {
   "cell_type": "code",
   "execution_count": 14,
   "metadata": {},
   "outputs": [],
   "source": [
    "def beta(valx, valy):\n",
    "    X = valx # before clean_monthly_returns['^GSPC'].tail(period)\n",
    "    y = valy   # before clean_monthly_returns['DISNEY'].tail(period)\n",
    "    #X1 = sm.add_constant(X)\n",
    "    slope, intercept, r_value, p_value, std_err = stats.linregress(X, y)\n",
    "    return round(slope,4)"
   ]
  },
  {
   "cell_type": "markdown",
   "metadata": {},
   "source": [
    "## Multi factor portfolio\n"
   ]
  },
  {
   "cell_type": "code",
   "execution_count": 15,
   "metadata": {},
   "outputs": [
    {
     "name": "stdout",
     "output_type": "stream",
     "text": [
      "                                 OLS Regression Results                                \n",
      "=======================================================================================\n",
      "Dep. Variable:                      y   R-squared (uncentered):                   0.830\n",
      "Model:                            OLS   Adj. R-squared (uncentered):              0.827\n",
      "Method:                 Least Squares   F-statistic:                              346.6\n",
      "Date:                Sun, 03 Apr 2022   Prob (F-statistic):                   2.22e-134\n",
      "Time:                        20:04:43   Log-Likelihood:                         -797.61\n",
      "No. Observations:                 361   AIC:                                      1605.\n",
      "Df Residuals:                     356   BIC:                                      1625.\n",
      "Df Model:                           5                                                  \n",
      "Covariance Type:            nonrobust                                                  \n",
      "==============================================================================\n",
      "                 coef    std err          t      P>|t|      [0.025      0.975]\n",
      "------------------------------------------------------------------------------\n",
      "smb           -0.0369      0.038     -0.968      0.333      -0.112       0.038\n",
      "hml            0.5158      0.037     13.869      0.000       0.443       0.589\n",
      "credit         0.1000      0.200      0.500      0.617      -0.293       0.493\n",
      "term           0.0274      0.101      0.271      0.786      -0.171       0.226\n",
      "mkt            1.0876      0.028     38.867      0.000       1.033       1.143\n",
      "==============================================================================\n",
      "Omnibus:                       69.566   Durbin-Watson:                   2.052\n",
      "Prob(Omnibus):                  0.000   Jarque-Bera (JB):              259.632\n",
      "Skew:                           0.794   Prob(JB):                     4.18e-57\n",
      "Kurtosis:                       6.839   Cond. No.                         7.98\n",
      "==============================================================================\n",
      "\n",
      "Notes:\n",
      "[1] R² is computed without centering (uncentered) since the model does not contain a constant.\n",
      "[2] Standard Errors assume that the covariance matrix of the errors is correctly specified.\n"
     ]
    }
   ],
   "source": [
    "regression(factors, (port_ret - ff_data['rf']))"
   ]
  },
  {
   "cell_type": "markdown",
   "metadata": {},
   "source": [
    "By analyzing the results we have and R^2 of 0.827, it means that the 82% variation of returns of our portfolio can be explained by our selected factors : SMB, HML, CREDIT, TERM, MARKET."
   ]
  },
  {
   "cell_type": "markdown",
   "metadata": {},
   "source": [
    "## Futures\n",
    "\n",
    "Run a regression where the dependent variable is your portfolio returns and the\n",
    "explanatory variable is %change in futures prices; the coefficient of the explanatory\n",
    "variable is the “optimal hedge ratio”"
   ]
  },
  {
   "cell_type": "code",
   "execution_count": 16,
   "metadata": {},
   "outputs": [
    {
     "data": {
      "text/plain": [
       "226.61448140900197"
      ]
     },
     "execution_count": 16,
     "metadata": {},
     "output_type": "execute_result"
    }
   ],
   "source": [
    "# N of futures needed = optimal hedge * (portfolio value/value of one SP500 futures)\n",
    "def futures_hedging_number():\n",
    "    slope = beta(sp500_futures_rtn, port_ret.tail(len(sp500_futures_rtn))) #data len should match, we have less futures historical data\n",
    "    sp500_futures['Price']= sp500_futures['Price'].str.replace(',','')\n",
    "    futures_price = pd.to_numeric(sp500_futures['Price'])\n",
    "    futures_price = futures_price.iloc[0]\n",
    "    futures_price = pd.to_numeric(futures_price)\n",
    "    futures_number = slope * (1000000/futures_price)\n",
    "    return futures_number\n",
    "futures_hedging_number()"
   ]
  },
  {
   "cell_type": "code",
   "execution_count": 17,
   "metadata": {},
   "outputs": [],
   "source": [
    "def p_val(valx, valy):\n",
    "    X = valx\n",
    "    y = valy\n",
    "    X1 = sm.add_constant(X)\n",
    "    slope, intercept, r_value, p_value, std_err = stats.linregress(X, y)\n",
    "    return p_value"
   ]
  },
  {
   "cell_type": "code",
   "execution_count": 18,
   "metadata": {},
   "outputs": [],
   "source": [
    "def alpha(valx, valy):\n",
    "    X = valx # before clean_monthly_returns['^GSPC'].tail(period)\n",
    "    y = valy   # before clean_monthly_returns['DISNEY'].tail(period)\n",
    "    #X1 = sm.add_constant(X)\n",
    "    slope, intercept, r_value, p_value, std_err = stats.linregress(X, y)\n",
    "    return round(intercept,4)"
   ]
  },
  {
   "cell_type": "code",
   "execution_count": 19,
   "metadata": {},
   "outputs": [
    {
     "data": {
      "text/html": [
       "<table border=\"1\" class=\"dataframe table table-stripde\">\n",
       "  <thead>\n",
       "    <tr style=\"text-align: right;\">\n",
       "      <th></th>\n",
       "      <th>Values</th>\n",
       "      <th>Beta</th>\n",
       "      <th>p-value</th>\n",
       "    </tr>\n",
       "    <tr>\n",
       "      <th>Factor</th>\n",
       "      <th></th>\n",
       "      <th></th>\n",
       "      <th></th>\n",
       "    </tr>\n",
       "  </thead>\n",
       "  <tbody>\n",
       "    <tr>\n",
       "      <th>SMB</th>\n",
       "      <td>-0.036911</td>\n",
       "      <td>-0.0136</td>\n",
       "      <td>8.757265e-01</td>\n",
       "    </tr>\n",
       "    <tr>\n",
       "      <th>HML</th>\n",
       "      <td>0.515776</td>\n",
       "      <td>0.4593</td>\n",
       "      <td>3.757393e-08</td>\n",
       "    </tr>\n",
       "    <tr>\n",
       "      <th>CREDIT</th>\n",
       "      <td>0.099995</td>\n",
       "      <td>-1.1162</td>\n",
       "      <td>1.167839e-01</td>\n",
       "    </tr>\n",
       "    <tr>\n",
       "      <th>TERM</th>\n",
       "      <td>0.027377</td>\n",
       "      <td>0.0077</td>\n",
       "      <td>9.751330e-01</td>\n",
       "    </tr>\n",
       "    <tr>\n",
       "      <th>MARKET</th>\n",
       "      <td>1.087601</td>\n",
       "      <td>1.0684</td>\n",
       "      <td>1.738412e-100</td>\n",
       "    </tr>\n",
       "  </tbody>\n",
       "</table>"
      ],
      "text/plain": [
       "<IPython.core.display.HTML object>"
      ]
     },
     "metadata": {},
     "output_type": "display_data"
    }
   ],
   "source": [
    "\n",
    "def fill(valx, valy):\n",
    "    results = pd.DataFrame({ \"Factor\": ['SMB', 'HML', 'CREDIT', 'TERM', 'MARKET'],\n",
    "                \"Values\": [\n",
    "                    saved_values[0],\n",
    "                    saved_values[1],\n",
    "                    saved_values[2],\n",
    "                    saved_values[3],\n",
    "                    saved_values[4]],\n",
    "                \"Beta\": [ \n",
    "                    beta(valx.iloc[:, 0],(valy)),\n",
    "                    beta(valx.iloc[:, 1], (valy)),\n",
    "                    beta(valx.iloc[:, 2], (valy)),\n",
    "                    beta(valx.iloc[:, 3], (valy)),\n",
    "                    beta(valx.iloc[:, 4], (valy)),\n",
    "                    ],\n",
    "                \"p-value\": [\n",
    "                    p_val(valx.iloc[:, 0], (valy)),\n",
    "                    p_val(valx.iloc[:, 1], (valy)),\n",
    "                    p_val(valx.iloc[:, 2], (valy)),\n",
    "                    p_val(valx.iloc[:, 3], (valy)),\n",
    "                    p_val(valx.iloc[:, 4], (valy)),\n",
    "                    ],\n",
    "                })\n",
    "    results.set_index('Factor', inplace=True)\n",
    "    display(HTML(results.to_html(classes='table table-stripde')))\n",
    "    \n",
    "fill(factors, (port_ret - ff_data['rf'] ))"
   ]
  },
  {
   "cell_type": "code",
   "execution_count": 20,
   "metadata": {},
   "outputs": [
    {
     "ename": "ValueError",
     "evalue": "all the input array dimensions for the concatenation axis must match exactly, but along dimension 1, the array at index 0 has size 5 and the array at index 1 has size 361",
     "output_type": "error",
     "traceback": [
      "\u001b[1;31m---------------------------------------------------------------------------\u001b[0m",
      "\u001b[1;31mValueError\u001b[0m                                Traceback (most recent call last)",
      "\u001b[1;32mc:\\Users\\aless\\OneDrive\\Documenti\\Università\\Magistrale\\AI for finance\\Projects\\Project2\\ES2 copy.ipynb Cell 36'\u001b[0m in \u001b[0;36m<cell line: 23>\u001b[1;34m()\u001b[0m\n\u001b[0;32m     <a href='vscode-notebook-cell:/c%3A/Users/aless/OneDrive/Documenti/Universit%C3%A0/Magistrale/AI%20for%20finance/Projects/Project2/ES2%20copy.ipynb#ch0000035?line=19'>20</a>\u001b[0m     results\u001b[39m.\u001b[39mset_index(\u001b[39m'\u001b[39m\u001b[39mFactor\u001b[39m\u001b[39m'\u001b[39m, inplace\u001b[39m=\u001b[39m\u001b[39mTrue\u001b[39;00m)\n\u001b[0;32m     <a href='vscode-notebook-cell:/c%3A/Users/aless/OneDrive/Documenti/Universit%C3%A0/Magistrale/AI%20for%20finance/Projects/Project2/ES2%20copy.ipynb#ch0000035?line=20'>21</a>\u001b[0m     display(HTML(results\u001b[39m.\u001b[39mto_html(classes\u001b[39m=\u001b[39m\u001b[39m'\u001b[39m\u001b[39mtable table-stripde\u001b[39m\u001b[39m'\u001b[39m)))\n\u001b[1;32m---> <a href='vscode-notebook-cell:/c%3A/Users/aless/OneDrive/Documenti/Universit%C3%A0/Magistrale/AI%20for%20finance/Projects/Project2/ES2%20copy.ipynb#ch0000035?line=22'>23</a>\u001b[0m fill(factors, (port_ret \u001b[39m-\u001b[39;49m ff_data[\u001b[39m'\u001b[39;49m\u001b[39mrf\u001b[39;49m\u001b[39m'\u001b[39;49m] ))\n",
      "\u001b[1;32mc:\\Users\\aless\\OneDrive\\Documenti\\Università\\Magistrale\\AI for finance\\Projects\\Project2\\ES2 copy.ipynb Cell 36'\u001b[0m in \u001b[0;36mfill\u001b[1;34m(valx, valy)\u001b[0m\n\u001b[0;32m      <a href='vscode-notebook-cell:/c%3A/Users/aless/OneDrive/Documenti/Universit%C3%A0/Magistrale/AI%20for%20finance/Projects/Project2/ES2%20copy.ipynb#ch0000035?line=0'>1</a>\u001b[0m \u001b[39mdef\u001b[39;00m \u001b[39mfill\u001b[39m(valx, valy):\n\u001b[0;32m      <a href='vscode-notebook-cell:/c%3A/Users/aless/OneDrive/Documenti/Universit%C3%A0/Magistrale/AI%20for%20finance/Projects/Project2/ES2%20copy.ipynb#ch0000035?line=1'>2</a>\u001b[0m     results \u001b[39m=\u001b[39m pd\u001b[39m.\u001b[39mDataFrame({ \u001b[39m\"\u001b[39m\u001b[39mFactor\u001b[39m\u001b[39m\"\u001b[39m: [\u001b[39m'\u001b[39m\u001b[39mSMB\u001b[39m\u001b[39m'\u001b[39m, \u001b[39m'\u001b[39m\u001b[39mHML\u001b[39m\u001b[39m'\u001b[39m, \u001b[39m'\u001b[39m\u001b[39mCREDIT\u001b[39m\u001b[39m'\u001b[39m, \u001b[39m'\u001b[39m\u001b[39mTERM\u001b[39m\u001b[39m'\u001b[39m, \u001b[39m'\u001b[39m\u001b[39mMARKET\u001b[39m\u001b[39m'\u001b[39m, \u001b[39m'\u001b[39m\u001b[39mintercept\u001b[39m\u001b[39m'\u001b[39m],\n\u001b[0;32m      <a href='vscode-notebook-cell:/c%3A/Users/aless/OneDrive/Documenti/Universit%C3%A0/Magistrale/AI%20for%20finance/Projects/Project2/ES2%20copy.ipynb#ch0000035?line=2'>3</a>\u001b[0m \n\u001b[0;32m      <a href='vscode-notebook-cell:/c%3A/Users/aless/OneDrive/Documenti/Universit%C3%A0/Magistrale/AI%20for%20finance/Projects/Project2/ES2%20copy.ipynb#ch0000035?line=3'>4</a>\u001b[0m                 \u001b[39m\"\u001b[39m\u001b[39mBeta\u001b[39m\u001b[39m\"\u001b[39m: [ \n\u001b[0;32m      <a href='vscode-notebook-cell:/c%3A/Users/aless/OneDrive/Documenti/Universit%C3%A0/Magistrale/AI%20for%20finance/Projects/Project2/ES2%20copy.ipynb#ch0000035?line=4'>5</a>\u001b[0m                     beta(valx\u001b[39m.\u001b[39miloc[:, \u001b[39m0\u001b[39m],(valy)),\n\u001b[0;32m      <a href='vscode-notebook-cell:/c%3A/Users/aless/OneDrive/Documenti/Universit%C3%A0/Magistrale/AI%20for%20finance/Projects/Project2/ES2%20copy.ipynb#ch0000035?line=5'>6</a>\u001b[0m                     beta(valx\u001b[39m.\u001b[39miloc[:, \u001b[39m1\u001b[39m], (valy)),\n\u001b[0;32m      <a href='vscode-notebook-cell:/c%3A/Users/aless/OneDrive/Documenti/Universit%C3%A0/Magistrale/AI%20for%20finance/Projects/Project2/ES2%20copy.ipynb#ch0000035?line=6'>7</a>\u001b[0m                     beta(valx\u001b[39m.\u001b[39miloc[:, \u001b[39m2\u001b[39m], (valy)),\n\u001b[0;32m      <a href='vscode-notebook-cell:/c%3A/Users/aless/OneDrive/Documenti/Universit%C3%A0/Magistrale/AI%20for%20finance/Projects/Project2/ES2%20copy.ipynb#ch0000035?line=7'>8</a>\u001b[0m                     beta(valx\u001b[39m.\u001b[39miloc[:, \u001b[39m3\u001b[39m], (valy)),\n\u001b[1;32m----> <a href='vscode-notebook-cell:/c%3A/Users/aless/OneDrive/Documenti/Universit%C3%A0/Magistrale/AI%20for%20finance/Projects/Project2/ES2%20copy.ipynb#ch0000035?line=8'>9</a>\u001b[0m                     alpha(valx, valy),\n\u001b[0;32m     <a href='vscode-notebook-cell:/c%3A/Users/aless/OneDrive/Documenti/Universit%C3%A0/Magistrale/AI%20for%20finance/Projects/Project2/ES2%20copy.ipynb#ch0000035?line=9'>10</a>\u001b[0m                     ],\n\u001b[0;32m     <a href='vscode-notebook-cell:/c%3A/Users/aless/OneDrive/Documenti/Universit%C3%A0/Magistrale/AI%20for%20finance/Projects/Project2/ES2%20copy.ipynb#ch0000035?line=10'>11</a>\u001b[0m                 \u001b[39m\"\u001b[39m\u001b[39mp-value\u001b[39m\u001b[39m\"\u001b[39m: [\n\u001b[0;32m     <a href='vscode-notebook-cell:/c%3A/Users/aless/OneDrive/Documenti/Universit%C3%A0/Magistrale/AI%20for%20finance/Projects/Project2/ES2%20copy.ipynb#ch0000035?line=11'>12</a>\u001b[0m                     p_val(valx\u001b[39m.\u001b[39miloc[:, \u001b[39m0\u001b[39m], (valy)),\n\u001b[0;32m     <a href='vscode-notebook-cell:/c%3A/Users/aless/OneDrive/Documenti/Universit%C3%A0/Magistrale/AI%20for%20finance/Projects/Project2/ES2%20copy.ipynb#ch0000035?line=12'>13</a>\u001b[0m                     p_val(valx\u001b[39m.\u001b[39miloc[:, \u001b[39m1\u001b[39m], (valy)),\n\u001b[0;32m     <a href='vscode-notebook-cell:/c%3A/Users/aless/OneDrive/Documenti/Universit%C3%A0/Magistrale/AI%20for%20finance/Projects/Project2/ES2%20copy.ipynb#ch0000035?line=13'>14</a>\u001b[0m                     p_val(valx\u001b[39m.\u001b[39miloc[:, \u001b[39m2\u001b[39m], (valy)),\n\u001b[0;32m     <a href='vscode-notebook-cell:/c%3A/Users/aless/OneDrive/Documenti/Universit%C3%A0/Magistrale/AI%20for%20finance/Projects/Project2/ES2%20copy.ipynb#ch0000035?line=14'>15</a>\u001b[0m                     p_val(valx\u001b[39m.\u001b[39miloc[:, \u001b[39m3\u001b[39m], (valy)),\n\u001b[0;32m     <a href='vscode-notebook-cell:/c%3A/Users/aless/OneDrive/Documenti/Universit%C3%A0/Magistrale/AI%20for%20finance/Projects/Project2/ES2%20copy.ipynb#ch0000035?line=15'>16</a>\u001b[0m                     p_val(valx\u001b[39m.\u001b[39miloc[:, \u001b[39m4\u001b[39m], (valy)),\n\u001b[0;32m     <a href='vscode-notebook-cell:/c%3A/Users/aless/OneDrive/Documenti/Universit%C3%A0/Magistrale/AI%20for%20finance/Projects/Project2/ES2%20copy.ipynb#ch0000035?line=16'>17</a>\u001b[0m                     p_val(valx\u001b[39m.\u001b[39miloc[:, \u001b[39m5\u001b[39m], (valy)),\n\u001b[0;32m     <a href='vscode-notebook-cell:/c%3A/Users/aless/OneDrive/Documenti/Universit%C3%A0/Magistrale/AI%20for%20finance/Projects/Project2/ES2%20copy.ipynb#ch0000035?line=17'>18</a>\u001b[0m                     ],\n\u001b[0;32m     <a href='vscode-notebook-cell:/c%3A/Users/aless/OneDrive/Documenti/Universit%C3%A0/Magistrale/AI%20for%20finance/Projects/Project2/ES2%20copy.ipynb#ch0000035?line=18'>19</a>\u001b[0m                 })\n\u001b[0;32m     <a href='vscode-notebook-cell:/c%3A/Users/aless/OneDrive/Documenti/Universit%C3%A0/Magistrale/AI%20for%20finance/Projects/Project2/ES2%20copy.ipynb#ch0000035?line=19'>20</a>\u001b[0m     results\u001b[39m.\u001b[39mset_index(\u001b[39m'\u001b[39m\u001b[39mFactor\u001b[39m\u001b[39m'\u001b[39m, inplace\u001b[39m=\u001b[39m\u001b[39mTrue\u001b[39;00m)\n\u001b[0;32m     <a href='vscode-notebook-cell:/c%3A/Users/aless/OneDrive/Documenti/Universit%C3%A0/Magistrale/AI%20for%20finance/Projects/Project2/ES2%20copy.ipynb#ch0000035?line=20'>21</a>\u001b[0m     display(HTML(results\u001b[39m.\u001b[39mto_html(classes\u001b[39m=\u001b[39m\u001b[39m'\u001b[39m\u001b[39mtable table-stripde\u001b[39m\u001b[39m'\u001b[39m)))\n",
      "\u001b[1;32mc:\\Users\\aless\\OneDrive\\Documenti\\Università\\Magistrale\\AI for finance\\Projects\\Project2\\ES2 copy.ipynb Cell 34'\u001b[0m in \u001b[0;36malpha\u001b[1;34m(valx, valy)\u001b[0m\n\u001b[0;32m      <a href='vscode-notebook-cell:/c%3A/Users/aless/OneDrive/Documenti/Universit%C3%A0/Magistrale/AI%20for%20finance/Projects/Project2/ES2%20copy.ipynb#ch0000033?line=2'>3</a>\u001b[0m y \u001b[39m=\u001b[39m valy   \u001b[39m# before clean_monthly_returns['DISNEY'].tail(period)\u001b[39;00m\n\u001b[0;32m      <a href='vscode-notebook-cell:/c%3A/Users/aless/OneDrive/Documenti/Universit%C3%A0/Magistrale/AI%20for%20finance/Projects/Project2/ES2%20copy.ipynb#ch0000033?line=3'>4</a>\u001b[0m \u001b[39m#X1 = sm.add_constant(X)\u001b[39;00m\n\u001b[1;32m----> <a href='vscode-notebook-cell:/c%3A/Users/aless/OneDrive/Documenti/Universit%C3%A0/Magistrale/AI%20for%20finance/Projects/Project2/ES2%20copy.ipynb#ch0000033?line=4'>5</a>\u001b[0m slope, intercept, r_value, p_value, std_err \u001b[39m=\u001b[39m stats\u001b[39m.\u001b[39;49mlinregress(X, y)\n\u001b[0;32m      <a href='vscode-notebook-cell:/c%3A/Users/aless/OneDrive/Documenti/Universit%C3%A0/Magistrale/AI%20for%20finance/Projects/Project2/ES2%20copy.ipynb#ch0000033?line=5'>6</a>\u001b[0m \u001b[39mreturn\u001b[39;00m \u001b[39mround\u001b[39m(intercept,\u001b[39m4\u001b[39m)\n",
      "File \u001b[1;32m~\\AppData\\Local\\Programs\\Python\\Python310\\lib\\site-packages\\scipy\\stats\\_stats_mstats_common.py:160\u001b[0m, in \u001b[0;36mlinregress\u001b[1;34m(x, y, alternative)\u001b[0m\n\u001b[0;32m    <a href='file:///c%3A/Users/aless/AppData/Local/Programs/Python/Python310/lib/site-packages/scipy/stats/_stats_mstats_common.py?line=154'>155</a>\u001b[0m ymean \u001b[39m=\u001b[39m np\u001b[39m.\u001b[39mmean(y, \u001b[39mNone\u001b[39;00m)\n\u001b[0;32m    <a href='file:///c%3A/Users/aless/AppData/Local/Programs/Python/Python310/lib/site-packages/scipy/stats/_stats_mstats_common.py?line=156'>157</a>\u001b[0m \u001b[39m# Average sums of square differences from the mean\u001b[39;00m\n\u001b[0;32m    <a href='file:///c%3A/Users/aless/AppData/Local/Programs/Python/Python310/lib/site-packages/scipy/stats/_stats_mstats_common.py?line=157'>158</a>\u001b[0m \u001b[39m#   ssxm = mean( (x-mean(x))^2 )\u001b[39;00m\n\u001b[0;32m    <a href='file:///c%3A/Users/aless/AppData/Local/Programs/Python/Python310/lib/site-packages/scipy/stats/_stats_mstats_common.py?line=158'>159</a>\u001b[0m \u001b[39m#   ssxym = mean( (x-mean(x)) * (y-mean(y)) )\u001b[39;00m\n\u001b[1;32m--> <a href='file:///c%3A/Users/aless/AppData/Local/Programs/Python/Python310/lib/site-packages/scipy/stats/_stats_mstats_common.py?line=159'>160</a>\u001b[0m ssxm, ssxym, _, ssym \u001b[39m=\u001b[39m np\u001b[39m.\u001b[39;49mcov(x, y, bias\u001b[39m=\u001b[39;49m\u001b[39m1\u001b[39;49m)\u001b[39m.\u001b[39mflat\n\u001b[0;32m    <a href='file:///c%3A/Users/aless/AppData/Local/Programs/Python/Python310/lib/site-packages/scipy/stats/_stats_mstats_common.py?line=161'>162</a>\u001b[0m \u001b[39m# R-value\u001b[39;00m\n\u001b[0;32m    <a href='file:///c%3A/Users/aless/AppData/Local/Programs/Python/Python310/lib/site-packages/scipy/stats/_stats_mstats_common.py?line=162'>163</a>\u001b[0m \u001b[39m#   r = ssxym / sqrt( ssxm * ssym )\u001b[39;00m\n\u001b[0;32m    <a href='file:///c%3A/Users/aless/AppData/Local/Programs/Python/Python310/lib/site-packages/scipy/stats/_stats_mstats_common.py?line=163'>164</a>\u001b[0m \u001b[39mif\u001b[39;00m ssxm \u001b[39m==\u001b[39m \u001b[39m0.0\u001b[39m \u001b[39mor\u001b[39;00m ssym \u001b[39m==\u001b[39m \u001b[39m0.0\u001b[39m:\n\u001b[0;32m    <a href='file:///c%3A/Users/aless/AppData/Local/Programs/Python/Python310/lib/site-packages/scipy/stats/_stats_mstats_common.py?line=164'>165</a>\u001b[0m     \u001b[39m# If the denominator was going to be 0\u001b[39;00m\n",
      "File \u001b[1;32m<__array_function__ internals>:180\u001b[0m, in \u001b[0;36mcov\u001b[1;34m(*args, **kwargs)\u001b[0m\n",
      "File \u001b[1;32m~\\AppData\\Local\\Programs\\Python\\Python310\\lib\\site-packages\\numpy\\lib\\function_base.py:2615\u001b[0m, in \u001b[0;36mcov\u001b[1;34m(m, y, rowvar, bias, ddof, fweights, aweights, dtype)\u001b[0m\n\u001b[0;32m   <a href='file:///c%3A/Users/aless/AppData/Local/Programs/Python/Python310/lib/site-packages/numpy/lib/function_base.py?line=2612'>2613</a>\u001b[0m     \u001b[39mif\u001b[39;00m \u001b[39mnot\u001b[39;00m rowvar \u001b[39mand\u001b[39;00m y\u001b[39m.\u001b[39mshape[\u001b[39m0\u001b[39m] \u001b[39m!=\u001b[39m \u001b[39m1\u001b[39m:\n\u001b[0;32m   <a href='file:///c%3A/Users/aless/AppData/Local/Programs/Python/Python310/lib/site-packages/numpy/lib/function_base.py?line=2613'>2614</a>\u001b[0m         y \u001b[39m=\u001b[39m y\u001b[39m.\u001b[39mT\n\u001b[1;32m-> <a href='file:///c%3A/Users/aless/AppData/Local/Programs/Python/Python310/lib/site-packages/numpy/lib/function_base.py?line=2614'>2615</a>\u001b[0m     X \u001b[39m=\u001b[39m np\u001b[39m.\u001b[39;49mconcatenate((X, y), axis\u001b[39m=\u001b[39;49m\u001b[39m0\u001b[39;49m)\n\u001b[0;32m   <a href='file:///c%3A/Users/aless/AppData/Local/Programs/Python/Python310/lib/site-packages/numpy/lib/function_base.py?line=2616'>2617</a>\u001b[0m \u001b[39mif\u001b[39;00m ddof \u001b[39mis\u001b[39;00m \u001b[39mNone\u001b[39;00m:\n\u001b[0;32m   <a href='file:///c%3A/Users/aless/AppData/Local/Programs/Python/Python310/lib/site-packages/numpy/lib/function_base.py?line=2617'>2618</a>\u001b[0m     \u001b[39mif\u001b[39;00m bias \u001b[39m==\u001b[39m \u001b[39m0\u001b[39m:\n",
      "File \u001b[1;32m<__array_function__ internals>:180\u001b[0m, in \u001b[0;36mconcatenate\u001b[1;34m(*args, **kwargs)\u001b[0m\n",
      "\u001b[1;31mValueError\u001b[0m: all the input array dimensions for the concatenation axis must match exactly, but along dimension 1, the array at index 0 has size 5 and the array at index 1 has size 361"
     ]
    }
   ],
   "source": [
    "\n",
    "def fill(valx, valy):\n",
    "    results = pd.DataFrame({ \"Factor\": ['SMB', 'HML', 'CREDIT', 'TERM', 'MARKET', 'intercept'],\n",
    "\n",
    "                \"Beta\": [ \n",
    "                    beta(valx.iloc[:, 0],(valy)),\n",
    "                    beta(valx.iloc[:, 1], (valy)),\n",
    "                    beta(valx.iloc[:, 2], (valy)),\n",
    "                    beta(valx.iloc[:, 3], (valy)),\n",
    "                    alpha(valx, valy),\n",
    "                    ],\n",
    "                \"p-value\": [\n",
    "                    p_val(valx.iloc[:, 0], (valy)),\n",
    "                    p_val(valx.iloc[:, 1], (valy)),\n",
    "                    p_val(valx.iloc[:, 2], (valy)),\n",
    "                    p_val(valx.iloc[:, 3], (valy)),\n",
    "                    p_val(valx.iloc[:, 4], (valy)),\n",
    "                    p_val(valx.iloc[:, 5], (valy)),\n",
    "                    ],\n",
    "                })\n",
    "    results.set_index('Factor', inplace=True)\n",
    "    display(HTML(results.to_html(classes='table table-stripde')))\n",
    "    \n",
    "fill(factors, (port_ret - ff_data['rf'] ))"
   ]
  },
  {
   "cell_type": "code",
   "execution_count": 24,
   "metadata": {},
   "outputs": [
    {
     "name": "stdout",
     "output_type": "stream",
     "text": [
      "1.0683595627599742 0.16030652441332516 1.7384123130020317e-100\n"
     ]
    }
   ],
   "source": [
    "def alpha(valx, valy):\n",
    "    X = valx # before clean_monthly_returns['^GSPC'].tail(period)\n",
    "    y = valy   # before clean_monthly_returns['DISNEY'].tail(period)\n",
    "    #X1 = sm.add_constant(X)\n",
    "    slope, intercept, r_value, p_value, std_err = stats.linregress(X, y)\n",
    "    print(slope, intercept, p_value)\n",
    "alpha(factors['mkt'] ,(port_ret - ff_data['rf'] )) "
   ]
  }
 ],
 "metadata": {
  "interpreter": {
   "hash": "655b934297ea95474237e21d64939816d9d8fb66ad0275d6d652a001de804914"
  },
  "kernelspec": {
   "display_name": "Python 3.10.3 64-bit",
   "language": "python",
   "name": "python3"
  },
  "language_info": {
   "codemirror_mode": {
    "name": "ipython",
    "version": 3
   },
   "file_extension": ".py",
   "mimetype": "text/x-python",
   "name": "python",
   "nbconvert_exporter": "python",
   "pygments_lexer": "ipython3",
   "version": "3.10.3"
  },
  "orig_nbformat": 4
 },
 "nbformat": 4,
 "nbformat_minor": 2
}
