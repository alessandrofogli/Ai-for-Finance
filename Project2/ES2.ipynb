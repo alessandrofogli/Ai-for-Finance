{
 "cells": [
  {
   "cell_type": "markdown",
   "metadata": {},
   "source": [
    "##  Multi factor Model and Futures hedging\n",
    "<div style=\"text-align: right\"> Fogli Alessandro </div>\n",
    "<div style=\"text-align: right\"> ID 231273 </div>\n",
    "<div style=\"text-align: right\"> Project #2 </div>"
   ]
  },
  {
   "cell_type": "markdown",
   "metadata": {},
   "source": [
    "### Install packages"
   ]
  },
  {
   "cell_type": "code",
   "execution_count": 1,
   "metadata": {},
   "outputs": [],
   "source": [
    "from scipy import stats\n",
    "import pandas as pd\n",
    "import numpy as np\n",
    "import statsmodels.api as sm\n",
    "import yfinance as yf\n",
    "import pandas_datareader as pdr\n",
    "from IPython.display import display, HTML\n",
    "import datetime as dt\n",
    "import getFamaFrenchFactors as gff\n",
    "\n",
    "from fredapi import Fred\n",
    "import config\n",
    "fred = Fred(api_key= config.fred_api)"
   ]
  },
  {
   "cell_type": "markdown",
   "metadata": {},
   "source": [
    "### Data"
   ]
  },
  {
   "cell_type": "markdown",
   "metadata": {},
   "source": [
    "Get data of difference in yields between BAA and AAA rated U.S. corporate bonds."
   ]
  },
  {
   "cell_type": "code",
   "execution_count": 2,
   "metadata": {},
   "outputs": [],
   "source": [
    "BAA = fred.get_series('BAA', observation_start=\"1992-02-01\", observation_end=\"2022-02-01\", frequency='m')\n",
    "AAA = fred.get_series('AAA', observation_start=\"1992-02-01\", observation_end=\"2022-02-01\", frequency='m')\n",
    "credit = BAA-AAA\n",
    "credit = credit.tolist()"
   ]
  },
  {
   "cell_type": "markdown",
   "metadata": {},
   "source": [
    "Get data of difference in yields between 10 year and 3 months U.S. Treasuries"
   ]
  },
  {
   "cell_type": "code",
   "execution_count": 3,
   "metadata": {},
   "outputs": [],
   "source": [
    "term = fred.get_series('T10Y3M', observation_start=\"1992-02-01\", observation_end= \"2022-02-01\" ,frequency='m')\n",
    "term = term.tolist()"
   ]
  },
  {
   "cell_type": "markdown",
   "metadata": {},
   "source": [
    "Get data of S&P500 "
   ]
  },
  {
   "cell_type": "code",
   "execution_count": 4,
   "metadata": {},
   "outputs": [
    {
     "name": "stdout",
     "output_type": "stream",
     "text": [
      "[*********************100%***********************]  1 of 1 completed\n"
     ]
    }
   ],
   "source": [
    "sp500 = yf.download('^GSPC','1992-01-01','2022-03-01', interval ='1mo')\n",
    "sp500_rtn = sp500.pct_change()\n",
    "sp500_rtn = sp500_rtn['Adj Close']\n",
    "sp500_rtn.fillna(0, inplace=True)\n",
    "sp500_rtn.drop(index = sp500_rtn.index[0], axis=0, inplace=True)\n",
    "sp500_rtn = sp500_rtn.apply(lambda x: x* 100) # get % return\n",
    "sp500_rtn.index = sp500_rtn.index + pd.offsets.MonthEnd()"
   ]
  },
  {
   "cell_type": "markdown",
   "metadata": {},
   "source": [
    "Get Fama French Data"
   ]
  },
  {
   "cell_type": "code",
   "execution_count": 5,
   "metadata": {},
   "outputs": [],
   "source": [
    "fama_data = gff.famaFrench3Factor(frequency=\"m\")\n",
    "fama_data.rename(columns={\"date_ff_factors\": 'Date'}, inplace=True)\n",
    "fama_data.set_index('Date', inplace=True)\n",
    "fama_data = fama_data.loc[fama_data.index >= '1992-02-01']\n",
    "fama_data = fama_data.loc[fama_data.index <= '2022-02-28']\n",
    "fama_data.columns = ['mkt', 'smb', 'hml', 'rf']\n",
    "fama_data = fama_data.drop('mkt', axis=1)\n",
    "fama_data = fama_data.apply(lambda x: x* 100) # transform data in %"
   ]
  },
  {
   "cell_type": "code",
   "execution_count": 6,
   "metadata": {},
   "outputs": [],
   "source": [
    "ff_data = fama_data\n",
    "ff_data['credit'] = credit\n",
    "ff_data['term'] = term\n",
    "ff_data['mkt'] = sp500_rtn\n",
    "ff_data.fillna(0, inplace=True)\n",
    "ff_data = ff_data.replace([np.inf, -np.inf], 0)\n",
    "factors = ff_data.drop(['rf'], axis=1)"
   ]
  },
  {
   "cell_type": "markdown",
   "metadata": {},
   "source": [
    "Load data of S&P500 Futures - Jun 2022 expiring date"
   ]
  },
  {
   "cell_type": "code",
   "execution_count": 7,
   "metadata": {},
   "outputs": [],
   "source": [
    "sp500_futures = pd.read_csv('S&P 500 Futures Historical Data.csv',index_col = 0)\n",
    "sp500_futures.index = pd.to_datetime(sp500_futures.index, format= '%b %y') # date index transforming\n",
    "sp500_futures.index = sp500_futures.index + pd.offsets.MonthEnd()\n",
    "sp500_futures_rtn = sp500_futures['Change %']\n",
    "sp500_futures_rtn= sp500_futures_rtn.str.replace('%','') # remove str % from value\n",
    "sp500_futures_rtn = pd.to_numeric(sp500_futures_rtn, errors='coerce')\n",
    "sp500_futures_rtn.fillna(0, inplace=True)\n",
    "sp500_futures_rtn = sp500_futures_rtn.iloc[::-1]\n",
    "sp500_futures_rtn.drop(sp500_futures_rtn.tail(1).index,inplace=True) # adjusting size to match stocks month"
   ]
  },
  {
   "cell_type": "markdown",
   "metadata": {},
   "source": [
    "Get data of The Walt Disney stock"
   ]
  },
  {
   "cell_type": "code",
   "execution_count": 8,
   "metadata": {},
   "outputs": [
    {
     "name": "stdout",
     "output_type": "stream",
     "text": [
      "[*********************100%***********************]  1 of 1 completed\n"
     ]
    }
   ],
   "source": [
    "disney = yf.download('DIS','1992-01-01','2022-03-1', interval ='1mo')\n",
    "disney = disney.dropna()\n",
    "disney_change = disney.pct_change()\n",
    "disney_rtn = disney_change['Adj Close']\n",
    "disney_rtn.fillna(0, inplace=True)\n",
    "disney_rtn.drop(index = disney_rtn.index[0], axis=0, inplace=True)\n",
    "disney_rtn = disney_rtn.apply(lambda x: x* 100) # get % return\n",
    "disney_rtn.index = disney_rtn.index + pd.offsets.MonthEnd()"
   ]
  },
  {
   "cell_type": "markdown",
   "metadata": {},
   "source": [
    "Get Stocks data for portfolio creation"
   ]
  },
  {
   "cell_type": "code",
   "execution_count": 9,
   "metadata": {},
   "outputs": [],
   "source": [
    "tickers = ['DIS', 'CVX', 'WFC', 'BAC', 'IBM', 'PEP', 'JPM', 'GE', 'AXP', 'BRK-A']\n",
    "start = dt.datetime(1992,1,1)\n",
    "end = dt.datetime(2022,2,28)\n",
    "portfolio = pdr.get_data_yahoo(tickers, start, end, interval='m')\n",
    "portfolio.fillna(0, inplace=True)\n",
    "portfolio.index = portfolio.index + pd.offsets.MonthEnd()"
   ]
  },
  {
   "cell_type": "code",
   "execution_count": 10,
   "metadata": {},
   "outputs": [],
   "source": [
    "single_stocks_rtn = portfolio['Adj Close'].pct_change(1, fill_method='ffill')\n",
    "single_stocks_rtn.fillna(0, inplace=True)\n",
    "stocks_rtn = single_stocks_rtn.replace([np.inf, -np.inf], 0)\n",
    "wts1 = [0.1,0.1,0.1,0.1,0.1,0.1,0.1,0.1,0.1,0.1] #set weights of the stocks in the portfolio\n",
    "port_ret = (stocks_rtn* wts1).sum(axis = 1) # total montlhy return balanced by sotcks weights\n",
    "port_ret.drop(index = port_ret.index[0], axis=0, inplace=True)\n",
    "port_ret = port_ret.apply(lambda x: x* 100)"
   ]
  },
  {
   "cell_type": "markdown",
   "metadata": {},
   "source": [
    "### Multi-factor model\n",
    "\n",
    "\"A multi-factor model is a financial model that employs multiple factors in its calculations to explain market phenomena and/or equilibrium asset prices. A multi-factor model can be used to explain either an individual security or a portfolio of securities. It does so by comparing two or more factors to analyze relationships between variables and the resulting performance.\"\n",
    "<a href=\"https://www.investopedia.com/terms/m/multifactor-model.asp#:~:text=A%20multi%2Dfactor%20model%20is,or%20a%20portfolio%20of%20securities.\" title=\"Investopedia\">Investopedia</a>\n",
    "\n",
    "In the previous project we considered the market return as the only factor affecting the return of any asset/portfolio with the following formula:  \n",
    "\n",
    "$E_{r}-R_{f} : α + β_{1}(R_{m}-R_{f}) + \\epsilon$  \n",
    "\n",
    "In this project we are also considering other factors deriving the following formula:\n",
    "  \n",
    "$E_{r}-R_{f} : α + β_{1}Mkt + β_{2}SMB + β_{3}HML + β_{4}Term + β_{5}Credit + \\epsilon$\n",
    "\n",
    "Where:\n",
    "- <strong>$E_{r}$</strong> : expected return of stock/portfolio\n",
    "- <strong>$R_{f}$</strong> : Risk free return\n",
    "- <strong>α</strong> : intercept\n",
    "- <strong>$β_{i}$</strong> : slope coefficient for each explanatory variable\n",
    "- <strong>MKT</strong> : the excess return of the market. It's the value-weighted return of all CRSP firms incorporated in the US and\n",
    "listed on the NYSE, AMEX, or NASDAQ minus the 1-month Treasury Bill rate.\n",
    "- <strong>SMB</strong> : (Small Minus Big) measures the excess return of stocks with small market cap over those with larger market cap. It's a size discriminant factor also called (Short-Long portoflio), long on small companies stock and short on big companies stock. The use of this factor helps to include in the evaluation the size of the companies in the portfolio which is not considered with only the risk premium as factor.\n",
    "- <strong>HML</strong> : (High Minus Low) measures the excess return of value stocks over growth stocks. Value stocks have high book to market ratio (B/P) than growth stocks. It is a disciminant value, usually small companies have high evaluation (book value) compared to market value. There are 2 values:\n",
    "    - growth : young corporations have a market value > book value\n",
    "    - mature/value stocks : corporations have market value < book value\n",
    "- <strong>term</strong> : difference in yields between 10 year and 3 months U.S. Treasuries;\n",
    "- <strong>credit</strong> : difference in yields between BAA and AAA rated U.S. corporate bonds\n",
    "- <strong>$\\epsilon$</strong> : model error term (residual)"
   ]
  },
  {
   "cell_type": "markdown",
   "metadata": {},
   "source": [
    "### Multi factor with one stock"
   ]
  },
  {
   "cell_type": "markdown",
   "metadata": {},
   "source": [
    "Defining a function to make a regression with explanatory variable (our factors) and dependent variable (stocks return)"
   ]
  },
  {
   "cell_type": "code",
   "execution_count": 11,
   "metadata": {},
   "outputs": [],
   "source": [
    "def regression(explanatory, dependent):\n",
    "    X = explanatory\n",
    "    y = dependent\n",
    "    X1 = sm.add_constant(X)\n",
    "    # make regression model \n",
    "    ff_model = sm.OLS(y, X1).fit()\n",
    "    # fit model and print results\n",
    "    print(ff_model.summary())\n",
    "    global saved_values\n",
    "    saved_values = ff_model.params\n",
    "    saved_values = saved_values.tolist()"
   ]
  },
  {
   "cell_type": "markdown",
   "metadata": {},
   "source": [
    "Regression between our factors and The Walt Disney Stock excess of return"
   ]
  },
  {
   "cell_type": "code",
   "execution_count": 12,
   "metadata": {},
   "outputs": [
    {
     "name": "stdout",
     "output_type": "stream",
     "text": [
      "                            OLS Regression Results                            \n",
      "==============================================================================\n",
      "Dep. Variable:                      y   R-squared:                       0.413\n",
      "Model:                            OLS   Adj. R-squared:                  0.405\n",
      "Method:                 Least Squares   F-statistic:                     49.99\n",
      "Date:                Thu, 07 Apr 2022   Prob (F-statistic):           3.93e-39\n",
      "Time:                        14:59:13   Log-Likelihood:                -1134.8\n",
      "No. Observations:                 361   AIC:                             2282.\n",
      "Df Residuals:                     355   BIC:                             2305.\n",
      "Df Model:                           5                                         \n",
      "Covariance Type:            nonrobust                                         \n",
      "==============================================================================\n",
      "                 coef    std err          t      P>|t|      [0.025      0.975]\n",
      "------------------------------------------------------------------------------\n",
      "const         -1.2508      0.850     -1.472      0.142      -2.922       0.420\n",
      "smb            0.1224      0.097      1.258      0.209      -0.069       0.314\n",
      "hml            0.1949      0.095      2.047      0.041       0.008       0.382\n",
      "credit         0.7471      0.799      0.935      0.350      -0.824       2.318\n",
      "term           0.3193      0.273      1.169      0.243      -0.218       0.856\n",
      "mkt            1.1218      0.072     15.481      0.000       0.979       1.264\n",
      "==============================================================================\n",
      "Omnibus:                       46.980   Durbin-Watson:                   2.188\n",
      "Prob(Omnibus):                  0.000   Jarque-Bera (JB):              118.548\n",
      "Skew:                           0.632   Prob(JB):                     1.81e-26\n",
      "Kurtosis:                       5.507   Cond. No.                         15.8\n",
      "==============================================================================\n",
      "\n",
      "Notes:\n",
      "[1] Standard Errors assume that the covariance matrix of the errors is correctly specified.\n"
     ]
    }
   ],
   "source": [
    "regression(factors, (disney_rtn - ff_data['rf']))"
   ]
  },
  {
   "cell_type": "markdown",
   "metadata": {},
   "source": [
    "#### Single stock analysis"
   ]
  },
  {
   "cell_type": "markdown",
   "metadata": {},
   "source": [
    "By analyzing the results we have and $R^{2}$ of 0.405, it means that the 40% variation of returns of our stock can be explained by our selected factors : SMB, HML, CREDIT, TERM, MARKET.  \n",
    "\n",
    "<ins>SMB</ins> The coefficient of SMB is positive, it means that when small caps outperform large caps, the Small Cap Index will have higher returns, anyway the p_vaue tells us that our coefficient is not statistically significant.  \n",
    "\n",
    "<ins>HML</ins> The beta value shows a positive relation to the HML factor for value stock analysis, which explains that the portfolio’s returns are attributable to the value premium. Even in that case the p_value is not statistically significant.  \n",
    "\n",
    "For <ins>Credit</ins> and <ins>Term</ins> we can also notice a negative p_value.  \n",
    "\n",
    "<ins>Market</ins> then we have a 1.12 β value which is statistically significant and it tells that for a 1%\n",
    "return by the market factor, we can expect our stock to return 1.12 * 1% in excess of the risk-free rate.  \n",
    "\n",
    "<ins>Const</ins> also known as $\\alpha$ has a negative value, it explain everything that couldn't be explained by our factors, it means an underperforming respect to other, for a positive alpha portfolio there should be another person in the market with negative alpha. The wightes sum of all market alphas must be 0, that's because the weighted sum of the returns of all investors is equal to a market portfolio. For the market efficiency theory alpha should be almost 0. Here the alpha is not statistically significant.\n"
   ]
  },
  {
   "cell_type": "markdown",
   "metadata": {},
   "source": [
    "### Multi factor portfolio\n"
   ]
  },
  {
   "cell_type": "markdown",
   "metadata": {},
   "source": [
    "Run regression between our factors and the stocks portfolio excess of return"
   ]
  },
  {
   "cell_type": "code",
   "execution_count": 13,
   "metadata": {},
   "outputs": [
    {
     "name": "stdout",
     "output_type": "stream",
     "text": [
      "                            OLS Regression Results                            \n",
      "==============================================================================\n",
      "Dep. Variable:                      y   R-squared:                       0.827\n",
      "Model:                            OLS   Adj. R-squared:                  0.824\n",
      "Method:                 Least Squares   F-statistic:                     338.4\n",
      "Date:                Thu, 07 Apr 2022   Prob (F-statistic):          1.18e-132\n",
      "Time:                        14:59:13   Log-Likelihood:                -794.85\n",
      "No. Observations:                 361   AIC:                             1602.\n",
      "Df Residuals:                     355   BIC:                             1625.\n",
      "Df Model:                           5                                         \n",
      "Covariance Type:            nonrobust                                         \n",
      "==============================================================================\n",
      "                 coef    std err          t      P>|t|      [0.025      0.975]\n",
      "------------------------------------------------------------------------------\n",
      "const         -0.7742      0.331     -2.337      0.020      -1.426      -0.123\n",
      "smb           -0.0423      0.038     -1.114      0.266      -0.117       0.032\n",
      "hml            0.5242      0.037     14.117      0.000       0.451       0.597\n",
      "credit         0.6604      0.312      2.120      0.035       0.048       1.273\n",
      "term           0.1108      0.106      1.041      0.299      -0.099       0.320\n",
      "mkt            1.0993      0.028     38.905      0.000       1.044       1.155\n",
      "==============================================================================\n",
      "Omnibus:                       49.657   Durbin-Watson:                   2.079\n",
      "Prob(Omnibus):                  0.000   Jarque-Bera (JB):              164.618\n",
      "Skew:                           0.575   Prob(JB):                     1.79e-36\n",
      "Kurtosis:                       6.102   Cond. No.                         15.8\n",
      "==============================================================================\n",
      "\n",
      "Notes:\n",
      "[1] Standard Errors assume that the covariance matrix of the errors is correctly specified.\n"
     ]
    }
   ],
   "source": [
    "regression(factors, (port_ret - ff_data['rf']))"
   ]
  },
  {
   "cell_type": "markdown",
   "metadata": {},
   "source": [
    "#### Portfolio analysis"
   ]
  },
  {
   "cell_type": "markdown",
   "metadata": {},
   "source": [
    "By analyzing the results we have and $R^{2}$ of 0.827, it means that the 82% variation of returns of our portofolio can be explained by our selected factors : SMB, HML, CREDIT, TERM, MARKET.  \n",
    "\n",
    "<ins>SMB</ins> The coefficient of SMB is negative, it means that our portfolio is more oriented to companies with large capitalization, anyway the p_vaue tells us that our coefficient is not statistically significant.  \n",
    "\n",
    "<ins>HML</ins> The coefficient value is positive and it tells us that the portfolio behaves more as value stock. The p_value is statistically significant so the null hypotesis (no correlation between the portfolio and HML) is rejected.\n",
    "\n",
    "For <ins>Credit</ins> and <ins>Term</ins> we can notice a negative p_value.  \n",
    "\n",
    "<ins>Market</ins> then we have a 1.08 β value which is statistically significant and it tells that for a 1%\n",
    "return by the market factor, we can expect our stock to return 1.08 * 1% in excess of the risk-free rate.\n",
    "\n",
    "<ins>Const</ins> also known as $\\alpha$ has a negative value, it means we have been rewarded less for the risk taken, it is statistically significant, so we can reject the null hypothesis."
   ]
  },
  {
   "cell_type": "markdown",
   "metadata": {},
   "source": [
    "### Futures"
   ]
  },
  {
   "cell_type": "markdown",
   "metadata": {},
   "source": [
    "Function to get beta coefficient"
   ]
  },
  {
   "cell_type": "code",
   "execution_count": 14,
   "metadata": {},
   "outputs": [],
   "source": [
    "def beta(valx, valy):\n",
    "    X = valx\n",
    "    y = valy\n",
    "    slope, intercept, r_value, p_value, std_err = stats.linregress(X, y)\n",
    "    return round(slope,4)"
   ]
  },
  {
   "cell_type": "markdown",
   "metadata": {},
   "source": [
    "Using the portofolio return as dependent variable and the S&P500 Futures return as explanatory variable we get the coefficient $\\beta$ also known as *optimal hedge ratio*  \n",
    "\n",
    "That coefficient can be used to derive the number of S&P500 Futures to hedge the portfolio, it can be helpful when we forecast an economic downturn and we want to avoid it.\n",
    "\n",
    "We can compute the number of futures needed with the following formula:  \n",
    "\n",
    "\n",
    "$$N_{futures} : \\beta(\\frac{portfolio_{value}}{futures_{price}})$$"
   ]
  },
  {
   "cell_type": "code",
   "execution_count": 16,
   "metadata": {},
   "outputs": [
    {
     "data": {
      "text/plain": [
       "4.534029136768862"
      ]
     },
     "execution_count": 16,
     "metadata": {},
     "output_type": "execute_result"
    }
   ],
   "source": [
    "def futures_hedging_number():\n",
    "    slope = beta(sp500_futures_rtn, port_ret.tail(len(sp500_futures_rtn))) #data len should match, we have less futures historical data\n",
    "    sp500_futures['Price']= sp500_futures['Price'].str.replace(',','')\n",
    "    futures_price = pd.to_numeric(sp500_futures['Price'])\n",
    "    futures_price = futures_price.iloc[0]\n",
    "    futures_price = pd.to_numeric(futures_price)\n",
    "    futures_number = slope * (1000000/(futures_price*50))\n",
    "    return futures_number\n",
    "futures_hedging_number()"
   ]
  },
  {
   "cell_type": "markdown",
   "metadata": {},
   "source": [
    "For the portfolio composed by the selected stocks we need #227 S&P500 Futures to hedge against a market downturn, and avoid the systematic risk."
   ]
  }
 ],
 "metadata": {
  "interpreter": {
   "hash": "655b934297ea95474237e21d64939816d9d8fb66ad0275d6d652a001de804914"
  },
  "kernelspec": {
   "display_name": "Python 3.10.3 64-bit",
   "language": "python",
   "name": "python3"
  },
  "language_info": {
   "codemirror_mode": {
    "name": "ipython",
    "version": 3
   },
   "file_extension": ".py",
   "mimetype": "text/x-python",
   "name": "python",
   "nbconvert_exporter": "python",
   "pygments_lexer": "ipython3",
   "version": "3.10.3"
  },
  "orig_nbformat": 4
 },
 "nbformat": 4,
 "nbformat_minor": 2
}
