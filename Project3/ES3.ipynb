{
 "cells": [
  {
   "cell_type": "markdown",
   "metadata": {},
   "source": [
    "##  Probit models to forecast binary outcomes such as recessions\n",
    "<div style=\"text-align: right\"> Fogli Alessandro </div>\n",
    "<div style=\"text-align: right\"> ID 231273 </div>\n",
    "<div style=\"text-align: right\"> Project #3 </div>"
   ]
  },
  {
   "cell_type": "markdown",
   "metadata": {},
   "source": [
    "### Install packages"
   ]
  },
  {
   "cell_type": "code",
   "execution_count": 14,
   "metadata": {},
   "outputs": [],
   "source": [
    "import scipy.stats as si\n",
    "import pandas as pd\n",
    "import matplotlib.pyplot as plt\n",
    "import numpy as np\n",
    "import statsmodels.api as sm\n",
    "import yfinance as yf\n",
    "import pandas_datareader as pdr\n",
    "import datetime\n",
    "from IPython.display import display, HTML\n",
    "import datetime as dt\n",
    "import getFamaFrenchFactors as gff\n",
    "import quandl\n",
    "from fredapi import Fred\n",
    "import config\n",
    "fred = Fred(api_key= config.fred_api)\n",
    "QUANDL_KEY = config.quandl_key\n",
    "quandl.ApiConfig.api_key = QUANDL_KEY\n",
    "from scipy import stats\n",
    "from statsmodels.base.model import GenericLikelihoodModel\n",
    "from statsmodels.discrete.discrete_model import Probit\n",
    "import statsmodels.formula.api as smf"
   ]
  },
  {
   "cell_type": "markdown",
   "metadata": {},
   "source": [
    "### Data (all quarterly)"
   ]
  },
  {
   "cell_type": "markdown",
   "metadata": {},
   "source": [
    "Get data of difference in yields between 10 year and 3 months U.S. Treasuries"
   ]
  },
  {
   "cell_type": "code",
   "execution_count": 2,
   "metadata": {},
   "outputs": [],
   "source": [
    "t10y = fred.get_series('DGS10', observation_start=\"1962-01-02\",observation_end= \"2021-12-31\",frequency='q')\n",
    "t3mo = fred.get_series('TB3MS', observation_start=\"1962-01-02\",observation_end= \"2021-12-31\",frequency='q')\n",
    "term = t10y-t3mo\n",
    "term = term.dropna()\n",
    "#term = term.tolist()\n",
    "term = term.to_frame().rename(columns={0: 'term'})\n",
    "#240"
   ]
  },
  {
   "cell_type": "markdown",
   "metadata": {},
   "source": [
    "Get data of Federal Funds Rate"
   ]
  },
  {
   "cell_type": "code",
   "execution_count": 3,
   "metadata": {},
   "outputs": [],
   "source": [
    "funds_rate = fred.get_series('FEDFUNDS', observation_start=\"1962-01-02\", observation_end= \"2021-12-31\" ,frequency='q')\n",
    "funds_rate = funds_rate.tolist()\n",
    "#240"
   ]
  },
  {
   "cell_type": "markdown",
   "metadata": {},
   "source": [
    "Get data of GDP Growth"
   ]
  },
  {
   "cell_type": "code",
   "execution_count": 4,
   "metadata": {},
   "outputs": [],
   "source": [
    "gdp = fred.get_series('GDP', observation_start=\"1962-01-02\", observation_end= \"2021-12-31\",frequency='q', units='pch')\n",
    "gdp = gdp.tolist()\n",
    "#240 miss first quarter 2022"
   ]
  },
  {
   "cell_type": "markdown",
   "metadata": {},
   "source": [
    "NBER based Recession Indicators for the United States"
   ]
  },
  {
   "cell_type": "code",
   "execution_count": 3,
   "metadata": {},
   "outputs": [],
   "source": [
    "nber = fred.get_series('USREC', observation_start=\"1962-01-01\", observation_end= \"2021-12-31\" ,frequency='q')\n",
    "nber = nber.astype(int)\n",
    "#nber = nber.tolist()\n",
    "#term.isna().sum().sum()\n",
    "#count = np.isinf(term).values.sum()\n",
    "nber = nber.to_frame().rename(columns={0: 'nber'})\n",
    "nber_plot = nber.reset_index().rename(columns={'index': 'date'})"
   ]
  },
  {
   "cell_type": "markdown",
   "metadata": {},
   "source": [
    "Load data of S&P500 Futures - Jun 2022 expiring date"
   ]
  },
  {
   "cell_type": "code",
   "execution_count": 6,
   "metadata": {},
   "outputs": [],
   "source": [
    "sp500_futures = pd.read_csv('S&P 500 Futures Historical Data.csv', index_col = 0)\n",
    "sp500_futures.index = pd.to_datetime(sp500_futures.index, format= '%b %y') # date index transforming\n",
    "sp500_futures.index = sp500_futures.index + pd.offsets.MonthEnd()\n",
    "sp500_futures_rtn = sp500_futures['Change %']\n",
    "sp500_futures_rtn= sp500_futures_rtn.str.replace('%','') # remove str % from value\n",
    "sp500_futures_rtn = pd.to_numeric(sp500_futures_rtn, errors='coerce')\n",
    "sp500_futures_rtn.fillna(0, inplace=True)\n",
    "sp500_futures_rtn = sp500_futures_rtn.iloc[::-1]\n",
    "sp500_futures_rtn.drop(sp500_futures_rtn.tail(1).index,inplace=True) # adjusting size to match stocks month"
   ]
  },
  {
   "cell_type": "markdown",
   "metadata": {},
   "source": [
    "Get data of S&P500"
   ]
  },
  {
   "cell_type": "code",
   "execution_count": 7,
   "metadata": {},
   "outputs": [
    {
     "data": {
      "text/plain": [
       "'\\nsp500 = quandl.get(\"MULTPL/SP500_REAL_PRICE_MONTH\", start_date=\\'1961-10-01\\', end_date=\\'2021-12-31\\', collapse=\"monthly\")\\nsp500_quarter_rtn = sp500.resample(\"3M\").mean()\\nsp500_quarter_rtn = sp500_quarter_rtn.pct_change()\\nsp500_quarter_rtn = sp500_quarter_rtn.dropna()\\nsp500_quarter_rtn.drop(sp500_quarter_rtn.tail(1).index,inplace=True)\\nsp500_quarter_rtn = sp500_quarter_rtn.apply(lambda x: x* 100)\\n'"
      ]
     },
     "execution_count": 7,
     "metadata": {},
     "output_type": "execute_result"
    }
   ],
   "source": [
    "'''\n",
    "sp500 = quandl.get(\"MULTPL/SP500_REAL_PRICE_MONTH\", start_date='1961-10-01', end_date='2021-12-31', collapse=\"monthly\")\n",
    "sp500_quarter_rtn = sp500.resample(\"3M\").mean()\n",
    "sp500_quarter_rtn = sp500_quarter_rtn.pct_change()\n",
    "sp500_quarter_rtn = sp500_quarter_rtn.dropna()\n",
    "sp500_quarter_rtn.drop(sp500_quarter_rtn.tail(1).index,inplace=True)\n",
    "sp500_quarter_rtn = sp500_quarter_rtn.apply(lambda x: x* 100)\n",
    "'''"
   ]
  },
  {
   "cell_type": "markdown",
   "metadata": {},
   "source": [
    "### Probit model"
   ]
  },
  {
   "cell_type": "markdown",
   "metadata": {},
   "source": [
    "A probit regression is a version of the generalized linear model used to model dichotomous outcome variables. It uses the inverse standard normal distribution as a linear combination of the predictors. The binary outcome variable Y is assumed to have a Bernoulli distribution with parameter p (where the success probability is p∈(0,1). Hence, the probit link function is:\n",
    "$$ probit(Y) = \\sum_{k=0}^n \\beta_{k} x_{ik} $$"
   ]
  },
  {
   "cell_type": "markdown",
   "metadata": {},
   "source": [
    "The Probit model assumes that the firm’s probability of recession has a cumulative standard-normal distribution, rather than a logistic distribution. However, by multiplying the results of the logistic distribution by an appropriate coefficient the distribution of the Probit model can be obtained."
   ]
  },
  {
   "cell_type": "markdown",
   "metadata": {},
   "source": [
    "Implementing Probit model with only Term as explanatory variable"
   ]
  },
  {
   "cell_type": "code",
   "execution_count": 6,
   "metadata": {},
   "outputs": [],
   "source": [
    "term_nber = term.join(nber['nber'])"
   ]
  },
  {
   "cell_type": "code",
   "execution_count": 14,
   "metadata": {},
   "outputs": [
    {
     "name": "stdout",
     "output_type": "stream",
     "text": [
      "0\n"
     ]
    }
   ],
   "source": [
    "term = term.shift(1).iloc[1: , :]\n",
    "term.isnull().values.any()\n",
    "count = np.isinf(term).values.sum()\n",
    "print(count)"
   ]
  },
  {
   "cell_type": "code",
   "execution_count": 16,
   "metadata": {},
   "outputs": [
    {
     "name": "stdout",
     "output_type": "stream",
     "text": [
      "0\n"
     ]
    }
   ],
   "source": [
    "nber = nber.iloc[1: , :]\n",
    "nber.isnull().values.any()\n",
    "count = np.isinf(term).values.sum()\n",
    "print(count)"
   ]
  },
  {
   "cell_type": "code",
   "execution_count": null,
   "metadata": {},
   "outputs": [],
   "source": []
  },
  {
   "cell_type": "code",
   "execution_count": 21,
   "metadata": {},
   "outputs": [
    {
     "name": "stdout",
     "output_type": "stream",
     "text": [
      "Optimization terminated successfully.\n",
      "         Current function value: 0.369346\n",
      "         Iterations 5\n",
      "Optimization terminated successfully.\n",
      "         Current function value: 0.370347\n",
      "         Iterations 5\n",
      "Optimization terminated successfully.\n",
      "         Current function value: 0.371363\n",
      "         Iterations 5\n",
      "Optimization terminated successfully.\n",
      "         Current function value: 0.372377\n",
      "         Iterations 5\n",
      "Optimization terminated successfully.\n",
      "         Current function value: 0.373380\n",
      "         Iterations 5\n",
      "Optimization terminated successfully.\n",
      "         Current function value: 0.374381\n",
      "         Iterations 5\n",
      "Optimization terminated successfully.\n",
      "         Current function value: 0.375386\n",
      "         Iterations 5\n",
      "Optimization terminated successfully.\n",
      "         Current function value: 0.376384\n",
      "         Iterations 5\n",
      "Optimization terminated successfully.\n",
      "         Current function value: 0.377382\n",
      "         Iterations 5\n",
      "Optimization terminated successfully.\n",
      "         Current function value: 0.378364\n",
      "         Iterations 5\n",
      "Optimization terminated successfully.\n",
      "         Current function value: 0.379356\n",
      "         Iterations 5\n",
      "Optimization terminated successfully.\n",
      "         Current function value: 0.380361\n",
      "         Iterations 5\n"
     ]
    },
    {
     "data": {
      "text/html": [
       "<table border=\"1\" class=\"dataframe table table-stripde\">\n",
       "  <thead>\n",
       "    <tr style=\"text-align: right;\">\n",
       "      <th></th>\n",
       "      <th>observations</th>\n",
       "      <th>Beta</th>\n",
       "      <th>Alpha</th>\n",
       "      <th>R-sq</th>\n",
       "    </tr>\n",
       "    <tr>\n",
       "      <th>Quarter ahead</th>\n",
       "      <th></th>\n",
       "      <th></th>\n",
       "      <th></th>\n",
       "      <th></th>\n",
       "    </tr>\n",
       "  </thead>\n",
       "  <tbody>\n",
       "    <tr>\n",
       "      <th>1.0</th>\n",
       "      <td>239.0</td>\n",
       "      <td>-0.029568</td>\n",
       "      <td>-1.124671</td>\n",
       "      <td>0.000644</td>\n",
       "    </tr>\n",
       "    <tr>\n",
       "      <th>2.0</th>\n",
       "      <td>238.0</td>\n",
       "      <td>-0.029912</td>\n",
       "      <td>-1.121620</td>\n",
       "      <td>0.000661</td>\n",
       "    </tr>\n",
       "    <tr>\n",
       "      <th>3.0</th>\n",
       "      <td>237.0</td>\n",
       "      <td>-0.029741</td>\n",
       "      <td>-1.119337</td>\n",
       "      <td>0.000656</td>\n",
       "    </tr>\n",
       "    <tr>\n",
       "      <th>4.0</th>\n",
       "      <td>236.0</td>\n",
       "      <td>-0.030051</td>\n",
       "      <td>-1.116309</td>\n",
       "      <td>0.000672</td>\n",
       "    </tr>\n",
       "    <tr>\n",
       "      <th>5.0</th>\n",
       "      <td>235.0</td>\n",
       "      <td>-0.031323</td>\n",
       "      <td>-1.111800</td>\n",
       "      <td>0.000731</td>\n",
       "    </tr>\n",
       "    <tr>\n",
       "      <th>6.0</th>\n",
       "      <td>234.0</td>\n",
       "      <td>-0.033044</td>\n",
       "      <td>-1.106582</td>\n",
       "      <td>0.000814</td>\n",
       "    </tr>\n",
       "    <tr>\n",
       "      <th>7.0</th>\n",
       "      <td>233.0</td>\n",
       "      <td>-0.034761</td>\n",
       "      <td>-1.101348</td>\n",
       "      <td>0.000902</td>\n",
       "    </tr>\n",
       "    <tr>\n",
       "      <th>8.0</th>\n",
       "      <td>232.0</td>\n",
       "      <td>-0.037074</td>\n",
       "      <td>-1.095171</td>\n",
       "      <td>0.001025</td>\n",
       "    </tr>\n",
       "    <tr>\n",
       "      <th>9.0</th>\n",
       "      <td>231.0</td>\n",
       "      <td>-0.039518</td>\n",
       "      <td>-1.088760</td>\n",
       "      <td>0.001164</td>\n",
       "    </tr>\n",
       "    <tr>\n",
       "      <th>10.0</th>\n",
       "      <td>230.0</td>\n",
       "      <td>-0.042835</td>\n",
       "      <td>-1.080960</td>\n",
       "      <td>0.001362</td>\n",
       "    </tr>\n",
       "    <tr>\n",
       "      <th>11.0</th>\n",
       "      <td>229.0</td>\n",
       "      <td>-0.045726</td>\n",
       "      <td>-1.073780</td>\n",
       "      <td>0.001548</td>\n",
       "    </tr>\n",
       "    <tr>\n",
       "      <th>12.0</th>\n",
       "      <td>228.0</td>\n",
       "      <td>-0.048177</td>\n",
       "      <td>-1.067251</td>\n",
       "      <td>0.001717</td>\n",
       "    </tr>\n",
       "  </tbody>\n",
       "</table>"
      ],
      "text/plain": [
       "<IPython.core.display.HTML object>"
      ]
     },
     "metadata": {},
     "output_type": "display_data"
    }
   ],
   "source": [
    "def fill(): #valx = factors, valy = nber\n",
    "    term_nber = term.join(nber['nber'])\n",
    "\n",
    "    results = pd.DataFrame({ \n",
    "                    \"Quarter ahead\": [],\n",
    "                    \"observations\": [],\n",
    "                    \"Beta\": [],\n",
    "                    \"Alpha\": [],\n",
    "                    \"R-sq\": [],\n",
    "                    \n",
    "                })\n",
    "    for i in range(1,13):\n",
    "        term_nber['term'].shift(-i) #switch lag and drop first val (Nan) of independent variable\n",
    "        term_nber = term_nber.iloc[: -1 , :] #drop firs row of dependent var\n",
    "        X =  term_nber['term'] #term\n",
    "        y =  term_nber['nber'] #nber\n",
    "        X = sm.add_constant(X)\n",
    "        model = Probit(y, X).fit()\n",
    "        observation = len(term_nber)\n",
    "        beta = model.params['term']\n",
    "        alpha = model.params['const']\n",
    "        rsq = model.prsquared\n",
    "        ahead = i\n",
    "\n",
    "        results.loc[i-1] = pd.Series({'Quarter ahead': ahead, 'observations': observation, 'Beta': beta,'Alpha': alpha, 'R-sq': rsq})\n",
    "        \n",
    "    results.set_index('Quarter ahead', inplace=True)\n",
    "    display(HTML(results.to_html(classes='table table-stripde')))\n",
    "fill()"
   ]
  },
  {
   "cell_type": "code",
   "execution_count": 22,
   "metadata": {},
   "outputs": [
    {
     "name": "stdout",
     "output_type": "stream",
     "text": [
      "Optimization terminated successfully.\n",
      "         Current function value: 0.369341\n",
      "         Iterations 5\n",
      "Optimization terminated successfully.\n",
      "         Current function value: 0.370339\n",
      "         Iterations 5\n",
      "Optimization terminated successfully.\n",
      "         Current function value: 0.371342\n",
      "         Iterations 5\n",
      "Optimization terminated successfully.\n",
      "         Current function value: 0.372349\n",
      "         Iterations 5\n",
      "Optimization terminated successfully.\n",
      "         Current function value: 0.373358\n",
      "         Iterations 5\n",
      "Optimization terminated successfully.\n",
      "         Current function value: 0.374374\n",
      "         Iterations 5\n",
      "Optimization terminated successfully.\n",
      "         Current function value: 0.375386\n",
      "         Iterations 5\n",
      "Optimization terminated successfully.\n",
      "         Current function value: 0.376398\n",
      "         Iterations 5\n",
      "Optimization terminated successfully.\n",
      "         Current function value: 0.377416\n",
      "         Iterations 5\n",
      "Optimization terminated successfully.\n",
      "         Current function value: 0.378441\n",
      "         Iterations 5\n",
      "Optimization terminated successfully.\n",
      "         Current function value: 0.379469\n",
      "         Iterations 5\n",
      "Optimization terminated successfully.\n",
      "         Current function value: 0.380493\n",
      "         Iterations 5\n"
     ]
    },
    {
     "data": {
      "text/html": [
       "<table border=\"1\" class=\"dataframe table table-stripde\">\n",
       "  <thead>\n",
       "    <tr style=\"text-align: right;\">\n",
       "      <th></th>\n",
       "      <th>observations</th>\n",
       "      <th>Beta</th>\n",
       "      <th>Alpha</th>\n",
       "      <th>R-sq</th>\n",
       "    </tr>\n",
       "    <tr>\n",
       "      <th>Quarter ahead</th>\n",
       "      <th></th>\n",
       "      <th></th>\n",
       "      <th></th>\n",
       "      <th></th>\n",
       "    </tr>\n",
       "  </thead>\n",
       "  <tbody>\n",
       "    <tr>\n",
       "      <th>1.0</th>\n",
       "      <td>239.0</td>\n",
       "      <td>-0.029887</td>\n",
       "      <td>-1.124185</td>\n",
       "      <td>0.000658</td>\n",
       "    </tr>\n",
       "    <tr>\n",
       "      <th>2.0</th>\n",
       "      <td>238.0</td>\n",
       "      <td>-0.030430</td>\n",
       "      <td>-1.120829</td>\n",
       "      <td>0.000684</td>\n",
       "    </tr>\n",
       "    <tr>\n",
       "      <th>3.0</th>\n",
       "      <td>237.0</td>\n",
       "      <td>-0.030994</td>\n",
       "      <td>-1.117427</td>\n",
       "      <td>0.000712</td>\n",
       "    </tr>\n",
       "    <tr>\n",
       "      <th>4.0</th>\n",
       "      <td>236.0</td>\n",
       "      <td>-0.031670</td>\n",
       "      <td>-1.113838</td>\n",
       "      <td>0.000745</td>\n",
       "    </tr>\n",
       "    <tr>\n",
       "      <th>5.0</th>\n",
       "      <td>235.0</td>\n",
       "      <td>-0.032554</td>\n",
       "      <td>-1.109916</td>\n",
       "      <td>0.000789</td>\n",
       "    </tr>\n",
       "    <tr>\n",
       "      <th>6.0</th>\n",
       "      <td>234.0</td>\n",
       "      <td>-0.033367</td>\n",
       "      <td>-1.106084</td>\n",
       "      <td>0.000832</td>\n",
       "    </tr>\n",
       "    <tr>\n",
       "      <th>7.0</th>\n",
       "      <td>233.0</td>\n",
       "      <td>-0.034714</td>\n",
       "      <td>-1.101416</td>\n",
       "      <td>0.000902</td>\n",
       "    </tr>\n",
       "    <tr>\n",
       "      <th>8.0</th>\n",
       "      <td>232.0</td>\n",
       "      <td>-0.036304</td>\n",
       "      <td>-1.096353</td>\n",
       "      <td>0.000987</td>\n",
       "    </tr>\n",
       "    <tr>\n",
       "      <th>9.0</th>\n",
       "      <td>231.0</td>\n",
       "      <td>-0.037848</td>\n",
       "      <td>-1.091338</td>\n",
       "      <td>0.001075</td>\n",
       "    </tr>\n",
       "    <tr>\n",
       "      <th>10.0</th>\n",
       "      <td>230.0</td>\n",
       "      <td>-0.039266</td>\n",
       "      <td>-1.086496</td>\n",
       "      <td>0.001159</td>\n",
       "    </tr>\n",
       "    <tr>\n",
       "      <th>11.0</th>\n",
       "      <td>229.0</td>\n",
       "      <td>-0.040753</td>\n",
       "      <td>-1.081524</td>\n",
       "      <td>0.001250</td>\n",
       "    </tr>\n",
       "    <tr>\n",
       "      <th>12.0</th>\n",
       "      <td>228.0</td>\n",
       "      <td>-0.042655</td>\n",
       "      <td>-1.075883</td>\n",
       "      <td>0.001371</td>\n",
       "    </tr>\n",
       "  </tbody>\n",
       "</table>"
      ],
      "text/plain": [
       "<IPython.core.display.HTML object>"
      ]
     },
     "metadata": {},
     "output_type": "display_data"
    }
   ],
   "source": [
    "def fill(): #valx = factors, valy = nber\n",
    "    term_nber = term.join(nber['nber'])\n",
    "\n",
    "    results = pd.DataFrame({ \n",
    "                    \"Quarter ahead\": [],\n",
    "                    \"observations\": [],\n",
    "                    \"Beta\": [],\n",
    "                    \"Alpha\": [],\n",
    "                    \"R-sq\": [],\n",
    "                    \n",
    "                })\n",
    "    for i in range(1,13):\n",
    "        term_nber['term'].shift(i) #switch lag and drop first val (Nan) of independent variable\n",
    "        term_nber = term_nber.iloc[1: , :] #drop firs row of dependent var\n",
    "        X =  term_nber['term'] #term\n",
    "        y =  term_nber['nber'] #nber\n",
    "        X = sm.add_constant(X)\n",
    "        model = Probit(y, X).fit()\n",
    "        observation = len(term_nber)\n",
    "        beta = model.params['term']\n",
    "        alpha = model.params['const']\n",
    "        rsq = model.prsquared\n",
    "        ahead = i\n",
    "\n",
    "        results.loc[i-1] = pd.Series({'Quarter ahead': ahead, 'observations': observation, 'Beta': beta,'Alpha': alpha, 'R-sq': rsq})\n",
    "        \n",
    "    results.set_index('Quarter ahead', inplace=True)\n",
    "    display(HTML(results.to_html(classes='table table-stripde')))\n",
    "fill()"
   ]
  },
  {
   "cell_type": "code",
   "execution_count": 16,
   "metadata": {},
   "outputs": [
    {
     "name": "stdout",
     "output_type": "stream",
     "text": [
      "Optimization terminated successfully.\n",
      "         Current function value: 0.368345\n",
      "         Iterations 5\n"
     ]
    },
    {
     "data": {
      "text/html": [
       "<table class=\"simpletable\">\n",
       "<caption>Probit Regression Results</caption>\n",
       "<tr>\n",
       "  <th>Dep. Variable:</th>         <td>nber</td>       <th>  No. Observations:  </th>  <td>   240</td>  \n",
       "</tr>\n",
       "<tr>\n",
       "  <th>Model:</th>                <td>Probit</td>      <th>  Df Residuals:      </th>  <td>   238</td>  \n",
       "</tr>\n",
       "<tr>\n",
       "  <th>Method:</th>                 <td>MLE</td>       <th>  Df Model:          </th>  <td>     1</td>  \n",
       "</tr>\n",
       "<tr>\n",
       "  <th>Date:</th>            <td>Fri, 08 Apr 2022</td> <th>  Pseudo R-squ.:     </th> <td>0.0006437</td>\n",
       "</tr>\n",
       "<tr>\n",
       "  <th>Time:</th>                <td>19:19:06</td>     <th>  Log-Likelihood:    </th> <td> -88.403</td> \n",
       "</tr>\n",
       "<tr>\n",
       "  <th>converged:</th>             <td>True</td>       <th>  LL-Null:           </th> <td> -88.460</td> \n",
       "</tr>\n",
       "<tr>\n",
       "  <th>Covariance Type:</th>     <td>nonrobust</td>    <th>  LLR p-value:       </th>  <td>0.7358</td>  \n",
       "</tr>\n",
       "</table>\n",
       "<table class=\"simpletable\">\n",
       "<tr>\n",
       "      <td></td>         <th>coef</th>     <th>std err</th>      <th>z</th>      <th>P>|z|</th>  <th>[0.025</th>    <th>0.975]</th>  \n",
       "</tr>\n",
       "<tr>\n",
       "  <th>Intercept</th> <td>   -1.1271</td> <td>    0.166</td> <td>   -6.806</td> <td> 0.000</td> <td>   -1.452</td> <td>   -0.803</td>\n",
       "</tr>\n",
       "<tr>\n",
       "  <th>term</th>      <td>   -0.0296</td> <td>    0.088</td> <td>   -0.337</td> <td> 0.736</td> <td>   -0.202</td> <td>    0.142</td>\n",
       "</tr>\n",
       "</table>"
      ],
      "text/plain": [
       "<class 'statsmodels.iolib.summary.Summary'>\n",
       "\"\"\"\n",
       "                          Probit Regression Results                           \n",
       "==============================================================================\n",
       "Dep. Variable:                   nber   No. Observations:                  240\n",
       "Model:                         Probit   Df Residuals:                      238\n",
       "Method:                           MLE   Df Model:                            1\n",
       "Date:                Fri, 08 Apr 2022   Pseudo R-squ.:               0.0006437\n",
       "Time:                        19:19:06   Log-Likelihood:                -88.403\n",
       "converged:                       True   LL-Null:                       -88.460\n",
       "Covariance Type:            nonrobust   LLR p-value:                    0.7358\n",
       "==============================================================================\n",
       "                 coef    std err          z      P>|z|      [0.025      0.975]\n",
       "------------------------------------------------------------------------------\n",
       "Intercept     -1.1271      0.166     -6.806      0.000      -1.452      -0.803\n",
       "term          -0.0296      0.088     -0.337      0.736      -0.202       0.142\n",
       "==============================================================================\n",
       "\"\"\""
      ]
     },
     "execution_count": 16,
     "metadata": {},
     "output_type": "execute_result"
    }
   ],
   "source": [
    "term_nber = term.join(nber['nber'])\n",
    "ff_model = smf.probit(\n",
    "    formula='nber ~ term',\n",
    "    data=term_nber).fit()\n",
    "ff_model.summary()"
   ]
  }
 ],
 "metadata": {
  "interpreter": {
   "hash": "655b934297ea95474237e21d64939816d9d8fb66ad0275d6d652a001de804914"
  },
  "kernelspec": {
   "display_name": "Python 3.10.3 64-bit",
   "language": "python",
   "name": "python3"
  },
  "language_info": {
   "codemirror_mode": {
    "name": "ipython",
    "version": 3
   },
   "file_extension": ".py",
   "mimetype": "text/x-python",
   "name": "python",
   "nbconvert_exporter": "python",
   "pygments_lexer": "ipython3",
   "version": "3.10.3"
  },
  "orig_nbformat": 4
 },
 "nbformat": 4,
 "nbformat_minor": 2
}
