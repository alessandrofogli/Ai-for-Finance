{
 "cells": [
  {
   "cell_type": "markdown",
   "metadata": {},
   "source": [
    "##  Probit models to forecast binary outcomes such as recessions\n",
    "<div style=\"text-align: right\"> Fogli Alessandro </div>\n",
    "<div style=\"text-align: right\"> ID 231273 </div>\n",
    "<div style=\"text-align: right\"> Project #3 </div>"
   ]
  },
  {
   "cell_type": "markdown",
   "metadata": {},
   "source": [
    "### Install packages"
   ]
  },
  {
   "cell_type": "code",
   "execution_count": 1,
   "metadata": {},
   "outputs": [],
   "source": [
    "import scipy.stats as si\n",
    "import pandas as pd\n",
    "import matplotlib.pyplot as plt\n",
    "import numpy as np\n",
    "import statsmodels.api as sm\n",
    "import yfinance as yf\n",
    "import pandas_datareader as pdr\n",
    "import datetime\n",
    "from IPython.display import display, HTML\n",
    "import datetime as dt\n",
    "import getFamaFrenchFactors as gff\n",
    "import quandl\n",
    "from fredapi import Fred\n",
    "import config\n",
    "fred = Fred(api_key= config.fred_api)\n",
    "QUANDL_KEY = config.quandl_key\n",
    "quandl.ApiConfig.api_key = QUANDL_KEY\n",
    "from scipy import stats\n",
    "from statsmodels.base.model import GenericLikelihoodModel\n",
    "from statsmodels.discrete.discrete_model import Probit\n",
    "import statsmodels.formula.api as smf"
   ]
  },
  {
   "cell_type": "markdown",
   "metadata": {},
   "source": [
    "### Data (all quarterly)"
   ]
  },
  {
   "cell_type": "markdown",
   "metadata": {},
   "source": [
    "Get data of difference in yields between 10 year and 3 months U.S. Treasuries"
   ]
  },
  {
   "cell_type": "code",
   "execution_count": 2,
   "metadata": {},
   "outputs": [],
   "source": [
    "t10y = fred.get_series('DGS10', observation_start=\"1962-01-02\",observation_end= \"2021-12-31\",frequency='q')\n",
    "t3mo = fred.get_series('TB3MS', observation_start=\"1962-01-02\",observation_end= \"2021-12-31\",frequency='q')\n",
    "term = t10y-t3mo\n",
    "term = term.dropna()\n",
    "#term = term.tolist()\n",
    "term = term.to_frame().rename(columns={0: 'term'})\n",
    "#240"
   ]
  },
  {
   "cell_type": "markdown",
   "metadata": {},
   "source": [
    "Get data of Federal Funds Rate"
   ]
  },
  {
   "cell_type": "code",
   "execution_count": 3,
   "metadata": {},
   "outputs": [],
   "source": [
    "funds_rate = fred.get_series('FEDFUNDS', observation_start=\"1962-01-02\", observation_end= \"2021-12-31\" ,frequency='q')\n",
    "funds_rate = funds_rate.tolist()\n",
    "#240"
   ]
  },
  {
   "cell_type": "markdown",
   "metadata": {},
   "source": [
    "Get data of GDP Growth"
   ]
  },
  {
   "cell_type": "code",
   "execution_count": 4,
   "metadata": {},
   "outputs": [],
   "source": [
    "gdp = fred.get_series('GDP', observation_start=\"1962-01-02\", observation_end= \"2021-12-31\",frequency='q', units='pch')\n",
    "gdp = gdp.tolist()\n",
    "#240 miss first quarter 2022"
   ]
  },
  {
   "cell_type": "markdown",
   "metadata": {},
   "source": [
    "NBER based Recession Indicators for the United States"
   ]
  },
  {
   "cell_type": "code",
   "execution_count": 5,
   "metadata": {},
   "outputs": [],
   "source": [
    "nber = fred.get_series('USREC', observation_start=\"1962-01-01\", observation_end= \"2021-12-31\" ,frequency='q')\n",
    "nber = nber.astype(int)\n",
    "#nber = nber.tolist()\n",
    "#term.isna().sum().sum()\n",
    "#count = np.isinf(term).values.sum()\n",
    "nber = nber.to_frame().rename(columns={0: 'nber'})\n",
    "nber_plot = nber.reset_index().rename(columns={'index': 'date'})"
   ]
  },
  {
   "cell_type": "markdown",
   "metadata": {},
   "source": [
    "Load data of S&P500 Futures - Jun 2022 expiring date"
   ]
  },
  {
   "cell_type": "code",
   "execution_count": 6,
   "metadata": {},
   "outputs": [],
   "source": [
    "sp500_futures = pd.read_csv('S&P 500 Futures Historical Data.csv', index_col = 0)\n",
    "sp500_futures.index = pd.to_datetime(sp500_futures.index, format= '%b %y') # date index transforming\n",
    "sp500_futures.index = sp500_futures.index + pd.offsets.MonthEnd()\n",
    "sp500_futures_rtn = sp500_futures['Change %']\n",
    "sp500_futures_rtn= sp500_futures_rtn.str.replace('%','') # remove str % from value\n",
    "sp500_futures_rtn = pd.to_numeric(sp500_futures_rtn, errors='coerce')\n",
    "sp500_futures_rtn.fillna(0, inplace=True)\n",
    "sp500_futures_rtn = sp500_futures_rtn.iloc[::-1]\n",
    "sp500_futures_rtn.drop(sp500_futures_rtn.tail(1).index,inplace=True) # adjusting size to match stocks month"
   ]
  },
  {
   "cell_type": "markdown",
   "metadata": {},
   "source": [
    "Get data of S&P500"
   ]
  },
  {
   "cell_type": "code",
   "execution_count": 7,
   "metadata": {},
   "outputs": [
    {
     "data": {
      "text/plain": [
       "'\\nsp500 = quandl.get(\"MULTPL/SP500_REAL_PRICE_MONTH\", start_date=\\'1961-10-01\\', end_date=\\'2021-12-31\\', collapse=\"monthly\")\\nsp500_quarter_rtn = sp500.resample(\"3M\").mean()\\nsp500_quarter_rtn = sp500_quarter_rtn.pct_change()\\nsp500_quarter_rtn = sp500_quarter_rtn.dropna()\\nsp500_quarter_rtn.drop(sp500_quarter_rtn.tail(1).index,inplace=True)\\nsp500_quarter_rtn = sp500_quarter_rtn.apply(lambda x: x* 100)\\n'"
      ]
     },
     "execution_count": 7,
     "metadata": {},
     "output_type": "execute_result"
    }
   ],
   "source": [
    "'''\n",
    "sp500 = quandl.get(\"MULTPL/SP500_REAL_PRICE_MONTH\", start_date='1961-10-01', end_date='2021-12-31', collapse=\"monthly\")\n",
    "sp500_quarter_rtn = sp500.resample(\"3M\").mean()\n",
    "sp500_quarter_rtn = sp500_quarter_rtn.pct_change()\n",
    "sp500_quarter_rtn = sp500_quarter_rtn.dropna()\n",
    "sp500_quarter_rtn.drop(sp500_quarter_rtn.tail(1).index,inplace=True)\n",
    "sp500_quarter_rtn = sp500_quarter_rtn.apply(lambda x: x* 100)\n",
    "'''"
   ]
  },
  {
   "cell_type": "markdown",
   "metadata": {},
   "source": [
    "### Probit model"
   ]
  },
  {
   "cell_type": "markdown",
   "metadata": {},
   "source": [
    "A probit regression is a version of the generalized linear model used to model dichotomous outcome variables. It uses the inverse standard normal distribution as a linear combination of the predictors. The binary outcome variable Y is assumed to have a Bernoulli distribution with parameter p (where the success probability is p∈(0,1). Hence, the probit link function is:\n",
    "$$ probit(Y) = \\sum_{k=0}^n \\beta_{k} x_{ik} $$"
   ]
  },
  {
   "cell_type": "markdown",
   "metadata": {},
   "source": [
    "The Probit model assumes that the firm’s probability of recession has a cumulative standard-normal distribution, rather than a logistic distribution. However, by multiplying the results of the logistic distribution by an appropriate coefficient the distribution of the Probit model can be obtained."
   ]
  },
  {
   "cell_type": "markdown",
   "metadata": {},
   "source": [
    "Implementing Probit model with only Term as explanatory variable"
   ]
  },
  {
   "cell_type": "code",
   "execution_count": 8,
   "metadata": {},
   "outputs": [],
   "source": [
    "term_nber = term.join(nber['nber']) "
   ]
  },
  {
   "cell_type": "code",
   "execution_count": 45,
   "metadata": {},
   "outputs": [
    {
     "name": "stdout",
     "output_type": "stream",
     "text": [
      "Optimization terminated successfully.\n",
      "         Current function value: 0.417651\n",
      "         Iterations 6\n",
      "Optimization terminated successfully.\n",
      "         Current function value: 0.352604\n",
      "         Iterations 6\n",
      "Optimization terminated successfully.\n",
      "         Current function value: 0.303995\n",
      "         Iterations 7\n",
      "Optimization terminated successfully.\n",
      "         Current function value: 0.295624\n",
      "         Iterations 7\n",
      "Optimization terminated successfully.\n",
      "         Current function value: 0.289132\n",
      "         Iterations 7\n",
      "Optimization terminated successfully.\n",
      "         Current function value: 0.313538\n",
      "         Iterations 7\n",
      "Optimization terminated successfully.\n",
      "         Current function value: 0.353612\n",
      "         Iterations 7\n",
      "Optimization terminated successfully.\n",
      "         Current function value: 0.386804\n",
      "         Iterations 6\n",
      "Optimization terminated successfully.\n",
      "         Current function value: 0.407379\n",
      "         Iterations 6\n",
      "Optimization terminated successfully.\n",
      "         Current function value: 0.409745\n",
      "         Iterations 6\n",
      "Optimization terminated successfully.\n",
      "         Current function value: 0.426137\n",
      "         Iterations 6\n",
      "Optimization terminated successfully.\n",
      "         Current function value: 0.446007\n",
      "         Iterations 6\n"
     ]
    },
    {
     "data": {
      "text/html": [
       "<table border=\"1\" class=\"dataframe table table-stripde\">\n",
       "  <thead>\n",
       "    <tr style=\"text-align: right;\">\n",
       "      <th></th>\n",
       "      <th>observations</th>\n",
       "      <th>Beta</th>\n",
       "      <th>R-sq</th>\n",
       "    </tr>\n",
       "    <tr>\n",
       "      <th>Quarter ahead</th>\n",
       "      <th></th>\n",
       "      <th></th>\n",
       "      <th></th>\n",
       "    </tr>\n",
       "  </thead>\n",
       "  <tbody>\n",
       "    <tr>\n",
       "      <th>1.0</th>\n",
       "      <td>239.0</td>\n",
       "      <td>-0.630735</td>\n",
       "      <td>-0.130058</td>\n",
       "    </tr>\n",
       "    <tr>\n",
       "      <th>2.0</th>\n",
       "      <td>238.0</td>\n",
       "      <td>-0.784894</td>\n",
       "      <td>0.048539</td>\n",
       "    </tr>\n",
       "    <tr>\n",
       "      <th>3.0</th>\n",
       "      <td>237.0</td>\n",
       "      <td>-0.931969</td>\n",
       "      <td>0.181943</td>\n",
       "    </tr>\n",
       "    <tr>\n",
       "      <th>4.0</th>\n",
       "      <td>236.0</td>\n",
       "      <td>-0.968865</td>\n",
       "      <td>0.206648</td>\n",
       "    </tr>\n",
       "    <tr>\n",
       "      <th>5.0</th>\n",
       "      <td>235.0</td>\n",
       "      <td>-1.020247</td>\n",
       "      <td>0.226202</td>\n",
       "    </tr>\n",
       "    <tr>\n",
       "      <th>6.0</th>\n",
       "      <td>234.0</td>\n",
       "      <td>-0.928408</td>\n",
       "      <td>0.163198</td>\n",
       "    </tr>\n",
       "    <tr>\n",
       "      <th>7.0</th>\n",
       "      <td>233.0</td>\n",
       "      <td>-0.796705</td>\n",
       "      <td>0.058854</td>\n",
       "    </tr>\n",
       "    <tr>\n",
       "      <th>8.0</th>\n",
       "      <td>232.0</td>\n",
       "      <td>-0.704508</td>\n",
       "      <td>-0.026631</td>\n",
       "    </tr>\n",
       "    <tr>\n",
       "      <th>9.0</th>\n",
       "      <td>231.0</td>\n",
       "      <td>-0.654747</td>\n",
       "      <td>-0.078231</td>\n",
       "    </tr>\n",
       "    <tr>\n",
       "      <th>10.0</th>\n",
       "      <td>230.0</td>\n",
       "      <td>-0.644181</td>\n",
       "      <td>-0.081463</td>\n",
       "    </tr>\n",
       "    <tr>\n",
       "      <th>11.0</th>\n",
       "      <td>229.0</td>\n",
       "      <td>-0.603719</td>\n",
       "      <td>-0.121577</td>\n",
       "    </tr>\n",
       "    <tr>\n",
       "      <th>12.0</th>\n",
       "      <td>228.0</td>\n",
       "      <td>-0.564545</td>\n",
       "      <td>-0.170574</td>\n",
       "    </tr>\n",
       "  </tbody>\n",
       "</table>"
      ],
      "text/plain": [
       "<IPython.core.display.HTML object>"
      ]
     },
     "metadata": {},
     "output_type": "display_data"
    }
   ],
   "source": [
    "def fill(): #valx = factors, valy = nber\n",
    "    term_nber = term.join(nber['nber'])\n",
    "\n",
    "    results = pd.DataFrame({ \n",
    "                    \"Quarter ahead\": [],               \n",
    "                    \"observations\": [],\n",
    "                    \"Beta\": [],\n",
    "                    #\"Alpha\": [],\n",
    "                    \"R-sq\": [],\n",
    "                    \n",
    "                })\n",
    "    for i in range(1,13):\n",
    "        term_nber['term'] = term_nber['term'].shift(1) #switch lag and drop first val (Nan) of independent variable    \n",
    "        term_nber = term_nber.iloc[1: , :] #drop firs row of dependent var\n",
    "        X =  term_nber['term'] #term\n",
    "        y =  term_nber['nber'] #nber\n",
    "        #X = sm.add_constant(X)\n",
    "        model = Probit(y, X).fit()\n",
    "        observation = len(term_nber)\n",
    "        beta = model.params['term']\n",
    "        #alpha = model.params['const']\n",
    "        rsq = model.prsquared\n",
    "        ahead = i\n",
    "\n",
    "        results.loc[i-1] = pd.Series({'Quarter ahead': ahead, 'observations': observation, 'Beta': beta, 'R-sq': rsq}) #'Alpha': alpha,\n",
    "        global greater\n",
    "        greater = results.loc[results['R-sq'].idxmax()]\n",
    "\n",
    "        \n",
    "    \n",
    "        \n",
    "    results.set_index('Quarter ahead', inplace=True)\n",
    "    display(HTML(results.to_html(classes='table table-stripde')))\n",
    "fill()\n"
   ]
  },
  {
   "cell_type": "code",
   "execution_count": 10,
   "metadata": {},
   "outputs": [],
   "source": [
    "def normsdist(z):\n",
    "    z = si.norm.cdf(z,0.0,1.0)\n",
    "    return (z)"
   ]
  },
  {
   "cell_type": "code",
   "execution_count": 55,
   "metadata": {},
   "outputs": [
    {
     "name": "stdout",
     "output_type": "stream",
     "text": [
      "Optimization terminated successfully.\n",
      "         Current function value: 0.270779\n",
      "         Iterations 7\n"
     ]
    },
    {
     "data": {
      "image/png": "[encoded data removed]",
      "text/plain": [
       "<Figure size 720x432 with 1 Axes>"
      ]
     },
     "metadata": {
      "needs_background": "light"
     },
     "output_type": "display_data"
    }
   ],
   "source": [
    "def plot_val(valx, valy, shiftvalue ):\n",
    "    \n",
    "    valx.shift(shiftvalue) \n",
    "    data = pd.concat([valx.shift(shiftvalue) , valy], axis=1)\n",
    "    data = data.iloc[shiftvalue :, :] \n",
    "    \n",
    "    X =  data.iloc[: , 0] #term\n",
    "    y =  data.iloc[: , 1] #nber\n",
    "    X = sm.add_constant(X)\n",
    "    model = Probit(y, X).fit()\n",
    "    beta = model.params['term']\n",
    "    values = model.fittedvalues\n",
    "    data['prob of recession'] = normsdist(values)\n",
    "    data = data.drop(['term'], axis=1)\n",
    "    data = data.reset_index().rename(columns={'index': 'date'})\n",
    "    #fig, ax = plt.subplots(figsize=(10,6))\n",
    "    #ax.plot(data['date'],data['y_pred_Probit'])\n",
    "    #data['nber'].plot.area(ax=ax, figsize=(8, 5), x='date', alpha=0.3, color=\"gray\")\n",
    "    #ax.plot(data['date'],data['nber'])\n",
    "    fig, ax = plt.subplots()\n",
    "    data['prob of recession'].plot.line(ax=ax, figsize=(10, 6), x='DATE', color=\"blue\")\n",
    "    data['nber'].plot.area(ax=ax, figsize=(10, 6), x='DATE', alpha=0.3, color=\"gray\")\n",
    "    ax.legend()\n",
    "    ax.set_ylabel('Probability')\n",
    "    ax.set_title('Predictive power of slope of yield cuve {} quarter ahead'.format(shiftvalue), size=18)\n",
    "    #plt.xlim(\"1962-01-01\", \"2022-03-01\")\n",
    "    plt.ylim(0,0.8)\n",
    "plot_val(term_nber['term'], term_nber['nber'], int(greater['Quarter ahead']))"
   ]
  },
  {
   "cell_type": "code",
   "execution_count": null,
   "metadata": {},
   "outputs": [],
   "source": [
    "def plot_val(valx, valy, shiftvalue ):\n",
    "    \n",
    "    valx.shift(shiftvalue) \n",
    "    data = pd.concat([valx.shift(shiftvalue) , valy], axis=1)\n",
    "    data = data.iloc[shiftvalue :, :] \n",
    "    \n",
    "    X =  data.iloc[: , 0] #term\n",
    "    y =  data.iloc[: , 1] #nber\n",
    "    X = sm.add_constant(X)\n",
    "    model = Probit(y, X).fit()\n",
    "    beta = model.params['term']\n",
    "    values = model.fittedvalues\n",
    "    data['y_pred_Probit'] = normsdist(values)\n",
    "    data = data.drop(['term'], axis=1)\n",
    "    data = data.reset_index().rename(columns={'index': 'date'})\n",
    "    fig, ax = plt.subplots(figsize=(10,6))\n",
    "    ax.plot(data['date'],data['y_pred_Probit'])\n",
    "    data['nber'].plot.area(ax=ax, figsize=(8, 5), x='date', alpha=0.3, color=\"gray\")\n",
    "    ax.legend()\n",
    "    ax.set_ylabel('Probability')\n",
    "    ax.set_title('Predictive power of slope of yield cuve', size=18)\n",
    "    #plt.xlim(\"1962-01-01\", \"2022-03-01\")\n",
    "    plt.ylim(0,1)\n",
    "plot_val(term_nber['term'], term_nber['nber'], int(greater['R-sq']))"
   ]
  }
 ],
 "metadata": {
  "interpreter": {
   "hash": "655b934297ea95474237e21d64939816d9d8fb66ad0275d6d652a001de804914"
  },
  "kernelspec": {
   "display_name": "Python 3.10.3 64-bit",
   "language": "python",
   "name": "python3"
  },
  "language_info": {
   "codemirror_mode": {
    "name": "ipython",
    "version": 3
   },
   "file_extension": ".py",
   "mimetype": "text/x-python",
   "name": "python",
   "nbconvert_exporter": "python",
   "pygments_lexer": "ipython3",
   "version": "3.10.3"
  },
  "orig_nbformat": 4
 },
 "nbformat": 4,
 "nbformat_minor": 2
}
