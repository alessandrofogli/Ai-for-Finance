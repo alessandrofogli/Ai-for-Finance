{
 "cells": [
  {
   "cell_type": "markdown",
   "metadata": {},
   "source": [
    "##  Probit models to forecast binary outcomes such as recessions\n",
    "<div style=\"text-align: right\"> Fogli Alessandro </div>\n",
    "<div style=\"text-align: right\"> ID 231273 </div>\n",
    "<div style=\"text-align: right\"> Project #3 </div>"
   ]
  },
  {
   "cell_type": "markdown",
   "metadata": {},
   "source": [
    "### Install packages"
   ]
  },
  {
   "cell_type": "code",
   "execution_count": 1,
   "metadata": {},
   "outputs": [],
   "source": [
    "import scipy.stats as si\n",
    "import pandas as pd\n",
    "import matplotlib.pyplot as plt\n",
    "import numpy as np\n",
    "import statsmodels.api as sm\n",
    "import pandas_datareader as pdr\n",
    "import datetime\n",
    "from IPython.display import display, HTML\n",
    "import datetime as dt\n",
    "import getFamaFrenchFactors as gff\n",
    "import quandl\n",
    "from fredapi import Fred\n",
    "import config\n",
    "fred = Fred(api_key= config.fred_api)\n",
    "QUANDL_KEY = config.quandl_key\n",
    "quandl.ApiConfig.api_key = QUANDL_KEY\n",
    "from scipy import stats\n",
    "from statsmodels.base.model import GenericLikelihoodModel\n",
    "from statsmodels.discrete.discrete_model import Probit\n",
    "import statsmodels.formula.api as smf"
   ]
  },
  {
   "cell_type": "markdown",
   "metadata": {},
   "source": [
    "### Data (all quarterly)"
   ]
  },
  {
   "cell_type": "markdown",
   "metadata": {},
   "source": [
    "Get data of difference in yields between 10 year and 3 months U.S. Treasuries"
   ]
  },
  {
   "cell_type": "code",
   "execution_count": 2,
   "metadata": {},
   "outputs": [],
   "source": [
    "t10y = fred.get_series('DGS10', observation_start=\"1962-01-02\",observation_end= \"2021-12-31\",frequency='q')\n",
    "t3mo = fred.get_series('TB3MS', observation_start=\"1962-01-02\",observation_end= \"2021-12-31\",frequency='q')\n",
    "term = t10y-t3mo\n",
    "term = term.dropna()\n",
    "#term = term.tolist()\n",
    "term = term.to_frame().rename(columns={0: 'term'})\n",
    "#240"
   ]
  },
  {
   "cell_type": "markdown",
   "metadata": {},
   "source": [
    "Get data of Federal Funds Rate"
   ]
  },
  {
   "cell_type": "code",
   "execution_count": 3,
   "metadata": {},
   "outputs": [],
   "source": [
    "funds_rate = fred.get_series('FEDFUNDS', observation_start=\"1962-01-02\", observation_end= \"2021-12-31\" ,frequency='q')\n",
    "funds_rate = funds_rate.to_frame().rename(columns={0: 'funds_rate'})"
   ]
  },
  {
   "cell_type": "markdown",
   "metadata": {},
   "source": [
    "Get data of GDP Growth"
   ]
  },
  {
   "cell_type": "code",
   "execution_count": 4,
   "metadata": {},
   "outputs": [],
   "source": [
    "gdp = fred.get_series('GDP', observation_start=\"1962-01-02\", observation_end= \"2021-12-31\",frequency='q', units='pch')\n",
    "#240 miss first quarter 2022\n",
    "gdp = gdp.to_frame().rename(columns={0: 'gdp'})"
   ]
  },
  {
   "cell_type": "markdown",
   "metadata": {},
   "source": [
    "NBER based Recession Indicators for the United States"
   ]
  },
  {
   "cell_type": "code",
   "execution_count": 5,
   "metadata": {},
   "outputs": [],
   "source": [
    "nber = fred.get_series('USREC', observation_start=\"1962-01-01\", observation_end= \"2021-12-31\" ,frequency='q')\n",
    "nber = nber.astype(int)\n",
    "#nber = nber.tolist()\n",
    "#term.isna().sum().sum()\n",
    "#count = np.isinf(term).values.sum()\n",
    "nber = nber.to_frame().rename(columns={0: 'nber'})"
   ]
  },
  {
   "cell_type": "markdown",
   "metadata": {},
   "source": [
    "Load data of S&P500 Futures - Jun 2022 expiring date"
   ]
  },
  {
   "cell_type": "code",
   "execution_count": 6,
   "metadata": {},
   "outputs": [
    {
     "name": "stdout",
     "output_type": "stream",
     "text": [
      "None\n"
     ]
    }
   ],
   "source": [
    "sp500_futures = pd.read_csv('S&P 500 Futures Historical Data.csv', index_col = 0)\n",
    "sp500_futures.index = pd.to_datetime(sp500_futures.index, format= '%b %y') # date index transforming\n",
    "sp500_futures.index = sp500_futures.index + pd.offsets.MonthEnd()\n",
    "sp500_futures_rtn = sp500_futures['Change %']\n",
    "sp500_futures_rtn= sp500_futures_rtn.str.replace('%','') # remove str % from value\n",
    "sp500_futures_rtn = pd.to_numeric(sp500_futures_rtn, errors='coerce')\n",
    "sp500_futures_rtn.fillna(0, inplace=True)\n",
    "sp500_futures_rtn = sp500_futures_rtn.iloc[::-1]\n",
    "sp500_futures_rtn = sp500_futures_rtn.drop(sp500_futures_rtn.tail(1).index,inplace=True) # adjusting size to match stocks month\n",
    "print(sp500_futures_rtn)"
   ]
  },
  {
   "cell_type": "markdown",
   "metadata": {},
   "source": [
    "Get data of S&P500"
   ]
  },
  {
   "cell_type": "code",
   "execution_count": 7,
   "metadata": {},
   "outputs": [],
   "source": [
    "sp500 = quandl.get(\"MULTPL/SP500_REAL_PRICE_MONTH\", start_date='1961-10-01', end_date='2021-12-31', collapse=\"monthly\",authtoken=\"WcG92wpxYRRUQmyNxVxZ\")\n",
    "sp500_quarter_rtn = sp500.resample(\"3M\").mean()\n",
    "sp500_quarter_rtn = sp500_quarter_rtn.pct_change()\n",
    "sp500_quarter_rtn = sp500_quarter_rtn.dropna()\n",
    "sp500_quarter_rtn.drop(sp500_quarter_rtn.tail(1).index,inplace=True)\n",
    "sp500_quarter_rtn = sp500_quarter_rtn.apply(lambda x: x* 100)\n",
    "sp500_quarter_rtn = sp500_quarter_rtn['Value'].tolist()"
   ]
  },
  {
   "cell_type": "markdown",
   "metadata": {},
   "source": [
    "### Probit model"
   ]
  },
  {
   "cell_type": "markdown",
   "metadata": {},
   "source": [
    "A probit regression is a version of the generalized linear model used to model dichotomous outcome variables. It uses the inverse standard normal distribution as a linear combination of the predictors. The binary outcome variable Y is assumed to have a Bernoulli distribution with parameter p (where the success probability is p∈(0,1). Hence, the probit link function is:\n",
    "$$ probit(Y) = \\sum_{k=0}^n \\beta_{k} x_{ik} $$"
   ]
  },
  {
   "cell_type": "markdown",
   "metadata": {},
   "source": [
    "The Probit model assumes that the firm’s probability of recession has a cumulative standard-normal distribution, rather than a logistic distribution. However, by multiplying the results of the logistic distribution by an appropriate coefficient the distribution of the Probit model can be obtained."
   ]
  },
  {
   "cell_type": "markdown",
   "metadata": {},
   "source": [
    "Implementing Probit model with only Term as explanatory variable"
   ]
  },
  {
   "cell_type": "code",
   "execution_count": 19,
   "metadata": {},
   "outputs": [],
   "source": [
    "term_nber = nber.join(term['term'])\n",
    "all_factors =  term_nber.join(funds_rate['funds_rate']).join(gdp['gdp'])\n",
    "all_factors['market'] = sp500_quarter_rtn"
   ]
  },
  {
   "cell_type": "code",
   "execution_count": 22,
   "metadata": {},
   "outputs": [
    {
     "name": "stdout",
     "output_type": "stream",
     "text": [
      "Optimization terminated successfully.\n",
      "         Current function value: 0.350905\n",
      "         Iterations 6\n"
     ]
    },
    {
     "data": {
      "text/plain": [
       "0.050540188278573095"
      ]
     },
     "execution_count": 22,
     "metadata": {},
     "output_type": "execute_result"
    }
   ],
   "source": [
    "def prob_model(valx, valy, par):\n",
    "    \n",
    "    valx = valx.shift(1) #switch lag and drop first val (Nan) of independent variable\n",
    " \n",
    "    valx = valx.iloc[1: , :] #drop firs row of dependent var\n",
    "    valy = valy.iloc[1: , :]\n",
    "    X =  valx #term\n",
    "    y =  valy #nber\n",
    "    X = sm.add_constant(X)\n",
    "    model = Probit(y, X).fit()\n",
    "    match par:\n",
    "        case 'rsquared':\n",
    "            return model.prsquared\n",
    "        case 'values':\n",
    "            return model.fittedvalues\n",
    "        case 'pvalues':\n",
    "            return model.pvalues\n",
    "        case 'alpha':\n",
    "            return term_nber.params['const']\n",
    "\n",
    "prob_model(term, nber, 'rsquared')"
   ]
  },
  {
   "cell_type": "code",
   "execution_count": null,
   "metadata": {},
   "outputs": [
    {
     "name": "stdout",
     "output_type": "stream",
     "text": [
      "Optimization terminated successfully.\n",
      "         Current function value: 0.350905\n",
      "         Iterations 6\n",
      "Optimization terminated successfully.\n",
      "         Current function value: 0.315908\n",
      "         Iterations 6\n",
      "Optimization terminated successfully.\n",
      "         Current function value: 0.281559\n",
      "         Iterations 7\n",
      "Optimization terminated successfully.\n",
      "         Current function value: 0.275265\n",
      "         Iterations 7\n",
      "Optimization terminated successfully.\n",
      "         Current function value: 0.270779\n",
      "         Iterations 7\n",
      "Optimization terminated successfully.\n",
      "         Current function value: 0.290658\n",
      "         Iterations 7\n",
      "Optimization terminated successfully.\n",
      "         Current function value: 0.319469\n",
      "         Iterations 6\n",
      "Optimization terminated successfully.\n",
      "         Current function value: 0.340506\n",
      "         Iterations 6\n",
      "Optimization terminated successfully.\n",
      "         Current function value: 0.352409\n",
      "         Iterations 6\n",
      "Optimization terminated successfully.\n",
      "         Current function value: 0.354571\n",
      "         Iterations 6\n",
      "Optimization terminated successfully.\n",
      "         Current function value: 0.362999\n",
      "         Iterations 6\n",
      "Optimization terminated successfully.\n",
      "         Current function value: 0.371782\n",
      "         Iterations 6\n"
     ]
    },
    {
     "data": {
      "text/html": [
       "<table border=\"1\" class=\"dataframe table table-stripde\">\n",
       "  <thead>\n",
       "    <tr style=\"text-align: right;\">\n",
       "      <th></th>\n",
       "      <th>observations</th>\n",
       "      <th>Beta</th>\n",
       "      <th>Alpha</th>\n",
       "      <th>R-sq</th>\n",
       "      <th>p-val term</th>\n",
       "    </tr>\n",
       "    <tr>\n",
       "      <th>Quarter ahead</th>\n",
       "      <th></th>\n",
       "      <th></th>\n",
       "      <th></th>\n",
       "      <th></th>\n",
       "      <th></th>\n",
       "    </tr>\n",
       "  </thead>\n",
       "  <tbody>\n",
       "    <tr>\n",
       "      <th>1.0</th>\n",
       "      <td>239.0</td>\n",
       "      <td>-0.264434</td>\n",
       "      <td>-0.827559</td>\n",
       "      <td>0.050540</td>\n",
       "      <td>3.630060e-03</td>\n",
       "    </tr>\n",
       "    <tr>\n",
       "      <th>2.0</th>\n",
       "      <td>238.0</td>\n",
       "      <td>-0.487584</td>\n",
       "      <td>-0.616952</td>\n",
       "      <td>0.147561</td>\n",
       "      <td>3.301870e-06</td>\n",
       "    </tr>\n",
       "    <tr>\n",
       "      <th>3.0</th>\n",
       "      <td>237.0</td>\n",
       "      <td>-0.683002</td>\n",
       "      <td>-0.486061</td>\n",
       "      <td>0.242320</td>\n",
       "      <td>3.039846e-08</td>\n",
       "    </tr>\n",
       "    <tr>\n",
       "      <th>4.0</th>\n",
       "      <td>236.0</td>\n",
       "      <td>-0.728607</td>\n",
       "      <td>-0.461981</td>\n",
       "      <td>0.261286</td>\n",
       "      <td>1.816275e-08</td>\n",
       "    </tr>\n",
       "    <tr>\n",
       "      <th>5.0</th>\n",
       "      <td>235.0</td>\n",
       "      <td>-0.782195</td>\n",
       "      <td>-0.437563</td>\n",
       "      <td>0.275321</td>\n",
       "      <td>2.499574e-08</td>\n",
       "    </tr>\n",
       "    <tr>\n",
       "      <th>6.0</th>\n",
       "      <td>234.0</td>\n",
       "      <td>-0.668358</td>\n",
       "      <td>-0.487791</td>\n",
       "      <td>0.224262</td>\n",
       "      <td>1.438691e-07</td>\n",
       "    </tr>\n",
       "    <tr>\n",
       "      <th>7.0</th>\n",
       "      <td>233.0</td>\n",
       "      <td>-0.504975</td>\n",
       "      <td>-0.590083</td>\n",
       "      <td>0.149727</td>\n",
       "      <td>3.937937e-06</td>\n",
       "    </tr>\n",
       "    <tr>\n",
       "      <th>8.0</th>\n",
       "      <td>232.0</td>\n",
       "      <td>-0.385322</td>\n",
       "      <td>-0.684722</td>\n",
       "      <td>0.096250</td>\n",
       "      <td>1.093219e-04</td>\n",
       "    </tr>\n",
       "    <tr>\n",
       "      <th>9.0</th>\n",
       "      <td>231.0</td>\n",
       "      <td>-0.315776</td>\n",
       "      <td>-0.747504</td>\n",
       "      <td>0.067263</td>\n",
       "      <td>9.644935e-04</td>\n",
       "    </tr>\n",
       "    <tr>\n",
       "      <th>10.0</th>\n",
       "      <td>230.0</td>\n",
       "      <td>-0.306511</td>\n",
       "      <td>-0.751443</td>\n",
       "      <td>0.064160</td>\n",
       "      <td>1.226598e-03</td>\n",
       "    </tr>\n",
       "    <tr>\n",
       "      <th>11.0</th>\n",
       "      <td>229.0</td>\n",
       "      <td>-0.250297</td>\n",
       "      <td>-0.807836</td>\n",
       "      <td>0.044600</td>\n",
       "      <td>6.358045e-03</td>\n",
       "    </tr>\n",
       "    <tr>\n",
       "      <th>12.0</th>\n",
       "      <td>228.0</td>\n",
       "      <td>-0.183946</td>\n",
       "      <td>-0.883256</td>\n",
       "      <td>0.024235</td>\n",
       "      <td>4.200914e-02</td>\n",
       "    </tr>\n",
       "  </tbody>\n",
       "</table>"
      ],
      "text/plain": [
       "<IPython.core.display.HTML object>"
      ]
     },
     "metadata": {},
     "output_type": "display_data"
    }
   ],
   "source": [
    "def fill(): #valx = factors, valy = nber\n",
    "    term_nber = term.join(nber['nber'])\n",
    "\n",
    "    results = pd.DataFrame({ \n",
    "                    \"Quarter ahead\": [],               \n",
    "                    \"observations\": [],\n",
    "                    \"Beta\": [],\n",
    "                    \"Alpha\": [],\n",
    "                    \"R-sq\": [],\n",
    "                    \"p-val term\": [],\n",
    "                    \n",
    "                })\n",
    "    for i in range(1,13):\n",
    "        term_nber['term'] = term_nber['term'].shift(1) #switch lag and drop first val (Nan) of independent variable    \n",
    "        term_nber = term_nber.iloc[1 : , :] #drop firs row of dependent var\n",
    "        X =  term_nber['term'] #term\n",
    "        y =  term_nber['nber'] #nber\n",
    "        X = sm.add_constant(X)\n",
    "        model = Probit(y, X).fit()\n",
    "        observation = len(term_nber)\n",
    "        beta = model.params['term']\n",
    "        pval = model.pvalues['term']\n",
    "        alpha = model.params['const']\n",
    "        rsq = model.prsquared\n",
    "        ahead = i\n",
    "\n",
    "        results.loc[i-1] = pd.Series({'Quarter ahead': ahead, 'observations': observation, 'Beta': beta, 'Alpha': alpha,'R-sq': rsq, 'p-val term': pval}) #'Alpha': alpha,\n",
    "        global greater\n",
    "        greater = results.loc[results['R-sq'].idxmax()]\n",
    "\n",
    "        \n",
    "    \n",
    "        \n",
    "    results.set_index('Quarter ahead', inplace=True)\n",
    "    display(HTML(results.to_html(classes='table table-stripde')))\n",
    "fill()\n"
   ]
  },
  {
   "cell_type": "code",
   "execution_count": null,
   "metadata": {},
   "outputs": [],
   "source": [
    "def normsdist(z):\n",
    "    z = si.norm.cdf(z,0.0,1.0)\n",
    "    return (z)"
   ]
  },
  {
   "cell_type": "code",
   "execution_count": null,
   "metadata": {},
   "outputs": [
    {
     "name": "stdout",
     "output_type": "stream",
     "text": [
      "Optimization terminated successfully.\n",
      "         Current function value: 0.270779\n",
      "         Iterations 7\n"
     ]
    },
    {
     "data": {
      "image/png": "[encoded data removed]",
      "text/plain": [
       "<Figure size 720x432 with 1 Axes>"
      ]
     },
     "metadata": {
      "needs_background": "light"
     },
     "output_type": "display_data"
    }
   ],
   "source": [
    "def plot_val(valx, valy, shiftvalue ):\n",
    "    \n",
    "    valx.shift(shiftvalue) \n",
    "    data = pd.concat([valx.shift(shiftvalue) , valy], axis=1)\n",
    "    data = data.iloc[shiftvalue :, :] \n",
    "    \n",
    "    X =  data.iloc[: , 0] #term\n",
    "    y =  data.iloc[: , 1] #nber\n",
    "    X = sm.add_constant(X)\n",
    "    model = Probit(y, X).fit()\n",
    "    beta = model.params['term']\n",
    "    values = model.fittedvalues\n",
    "    data['prob of recession'] = normsdist(values)\n",
    "    data = data.drop(['term'], axis=1)\n",
    "    data = data.reset_index().rename(columns={'index': 'date'})\n",
    "    fig, ax = plt.subplots()\n",
    "    data['prob of recession'].plot.line(ax=ax, figsize=(10, 6), x='DATE', color=\"blue\")\n",
    "    data['nber'].plot.area(ax=ax, figsize=(10, 6), x='DATE', alpha=0.3, color=\"gray\")\n",
    "    ax.legend()\n",
    "    ax.set_ylabel('Probability')\n",
    "    ax.set_title('Predictive power of slope of yield cuve {} quarter ahead'.format(shiftvalue), size=18)\n",
    "    #plt.xlim(\"1963-04-01\", \"2021-10-01\")\n",
    "    plt.ylabel(\"date\")\n",
    "    plt.ylim(0,0.8)\n",
    "    \n",
    "plot_val(term_nber['term'], term_nber['nber'], int(greater['Quarter ahead']))"
   ]
  },
  {
   "cell_type": "code",
   "execution_count": null,
   "metadata": {},
   "outputs": [],
   "source": [
    "def fill(): #valx = factors, valy = nber\n",
    "    term_nber = term.join(nber['nber'])\n",
    "    all_factors = \n",
    "    results = pd.DataFrame({ \n",
    "                    \"Quarter ahead\": [],               \n",
    "                    \"observations\": [],\n",
    "                    \"Beta\": [],\n",
    "                    \"Alpha\": [],\n",
    "                    \"R-sq\": [],\n",
    "                    \"p-val term\": [],\n",
    "                    \n",
    "                })\n",
    "    for i in range(1,13):\n",
    "        term_nber['term'] = term_nber['term'].shift(1) #switch lag and drop first val (Nan) of independent variable    \n",
    "        term_nber = term_nber.iloc[1: , :] #drop firs row of dependent var\n",
    "        X =  term_nber['term'] #term\n",
    "        y =  term_nber['nber'] #nber\n",
    "        X = sm.add_constant(X)\n",
    "        model = Probit(y, X).fit()\n",
    "        observation = len(term_nber)\n",
    "        beta = model.params['term']\n",
    "        pval = model.pvalues['term']\n",
    "        alpha = model.params['const']\n",
    "        rsq = model.prsquared\n",
    "        ahead = i\n",
    "\n",
    "        results.loc[i-1] = pd.Series({'Quarter ahead': ahead, 'observations': observation, 'Beta': beta, 'Alpha': alpha,'R-sq': rsq, 'p-val term': pval}) #'Alpha': alpha,\n",
    "        global greater\n",
    "        #greater = results.loc[results['R-sq'].idxmax()]\n",
    "\n",
    "    results.set_index('Quarter ahead', inplace=True)\n",
    "    display(HTML(results.to_html(classes='table table-stripde')))\n",
    "fill()\n"
   ]
  },
  {
   "cell_type": "code",
   "execution_count": null,
   "metadata": {},
   "outputs": [
    {
     "name": "stdout",
     "output_type": "stream",
     "text": [
      "Optimization terminated successfully.\n",
      "         Current function value: 0.228361\n",
      "         Iterations 7\n"
     ]
    },
    {
     "data": {
      "text/plain": [
       "1962-01-01   -2.649952\n",
       "1962-04-01   -1.751652\n",
       "1962-07-01   -0.501507\n",
       "1962-10-01   -1.525641\n",
       "1963-01-01   -2.823274\n",
       "                ...   \n",
       "2020-10-01   -3.674102\n",
       "2021-01-01   -3.686558\n",
       "2021-04-01   -3.725620\n",
       "2021-07-01   -3.310959\n",
       "2021-10-01   -3.440506\n",
       "Length: 240, dtype: float64"
      ]
     },
     "execution_count": 45,
     "metadata": {},
     "output_type": "execute_result"
    }
   ],
   "source": [
    "\n",
    "X =  all_factors.drop([\"nber\"],axis=1)  #term\n",
    "y =  all_factors['nber']  #nber\n",
    "X = sm.add_constant(X)\n",
    "model2 = Probit(y, X).fit()\n",
    "\n",
    "model2.fittedvalues\n",
    "\n"
   ]
  }
 ],
 "metadata": {
  "interpreter": {
   "hash": "655b934297ea95474237e21d64939816d9d8fb66ad0275d6d652a001de804914"
  },
  "kernelspec": {
   "display_name": "Python 3.10.3 64-bit",
   "language": "python",
   "name": "python3"
  },
  "language_info": {
   "codemirror_mode": {
    "name": "ipython",
    "version": 3
   },
   "file_extension": ".py",
   "mimetype": "text/x-python",
   "name": "python",
   "nbconvert_exporter": "python",
   "pygments_lexer": "ipython3",
   "version": "3.10.3"
  },
  "orig_nbformat": 4
 },
 "nbformat": 4,
 "nbformat_minor": 2
}
