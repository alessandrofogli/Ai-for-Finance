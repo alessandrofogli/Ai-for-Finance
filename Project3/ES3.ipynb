{
 "cells": [
  {
   "cell_type": "markdown",
   "metadata": {},
   "source": [
    "##  Probit models to forecast binary outcomes such as recessions\n",
    "<div style=\"text-align: right\"> Fogli Alessandro </div>\n",
    "<div style=\"text-align: right\"> ID 231273 </div>\n",
    "<div style=\"text-align: right\"> Project #3 </div>"
   ]
  },
  {
   "cell_type": "markdown",
   "metadata": {},
   "source": [
    "### Install packages"
   ]
  },
  {
   "cell_type": "code",
   "execution_count": 1,
   "metadata": {},
   "outputs": [],
   "source": [
    "import scipy.stats as si\n",
    "import pandas as pd\n",
    "import matplotlib.pyplot as plt\n",
    "import numpy as np\n",
    "import statsmodels.api as sm\n",
    "import yfinance as yf\n",
    "import pandas_datareader as pdr\n",
    "import datetime\n",
    "from IPython.display import display, HTML\n",
    "import datetime as dt\n",
    "import getFamaFrenchFactors as gff\n",
    "import quandl\n",
    "from fredapi import Fred\n",
    "import config\n",
    "fred = Fred(api_key= config.fred_api)\n",
    "QUANDL_KEY = config.quandl_key\n",
    "quandl.ApiConfig.api_key = QUANDL_KEY"
   ]
  },
  {
   "cell_type": "markdown",
   "metadata": {},
   "source": [
    "### Data (all quarterly)"
   ]
  },
  {
   "cell_type": "markdown",
   "metadata": {},
   "source": [
    "Get data of difference in yields between 10 year and 3 months U.S. Treasuries"
   ]
  },
  {
   "cell_type": "code",
   "execution_count": 2,
   "metadata": {},
   "outputs": [],
   "source": [
    "t10y = fred.get_series('DGS10', observation_start=\"1962-01-02\",observation_end= \"2021-12-31\",frequency='q')\n",
    "t3mo = fred.get_series('TB3MS', observation_start=\"1962-01-02\",observation_end= \"2021-12-31\",frequency='q')\n",
    "term = t10y-t3mo\n",
    "term = term.dropna()\n",
    "#term = term.tolist()\n",
    "term = term.to_frame().rename(columns={0: 'term'})\n",
    "#240"
   ]
  },
  {
   "cell_type": "markdown",
   "metadata": {},
   "source": [
    "Get data of Federal Funds Rate"
   ]
  },
  {
   "cell_type": "code",
   "execution_count": null,
   "metadata": {},
   "outputs": [],
   "source": [
    "funds_rate = fred.get_series('FEDFUNDS', observation_start=\"1962-01-02\", observation_end= \"2021-12-31\" ,frequency='q')\n",
    "funds_rate = funds_rate.tolist()\n",
    "#240"
   ]
  },
  {
   "cell_type": "markdown",
   "metadata": {},
   "source": [
    "Get data of GDP Growth"
   ]
  },
  {
   "cell_type": "code",
   "execution_count": null,
   "metadata": {},
   "outputs": [],
   "source": [
    "gdp = fred.get_series('GDP', observation_start=\"1962-01-02\", observation_end= \"2021-12-31\",frequency='q', units='pch')\n",
    "gdp = gdp.tolist()\n",
    "#240 miss first quarter 2022"
   ]
  },
  {
   "cell_type": "markdown",
   "metadata": {},
   "source": [
    "NBER based Recession Indicators for the United States"
   ]
  },
  {
   "cell_type": "code",
   "execution_count": 3,
   "metadata": {},
   "outputs": [],
   "source": [
    "nber = fred.get_series('USREC', observation_start=\"1962-01-01\", observation_end= \"2021-12-31\" ,frequency='q')\n",
    "nber = nber.astype(int)\n",
    "#nber = nber.tolist()\n",
    "#term.isna().sum().sum()\n",
    "#count = np.isinf(term).values.sum()\n",
    "nber = nber.to_frame().rename(columns={0: 'nber'})\n",
    "nber_plot = nber.reset_index().rename(columns={'index': 'date'})"
   ]
  },
  {
   "cell_type": "markdown",
   "metadata": {},
   "source": [
    "Load data of S&P500 Futures - Jun 2022 expiring date"
   ]
  },
  {
   "cell_type": "code",
   "execution_count": null,
   "metadata": {},
   "outputs": [],
   "source": [
    "sp500_futures = pd.read_csv('S&P 500 Futures Historical Data.csv', index_col = 0)\n",
    "sp500_futures.index = pd.to_datetime(sp500_futures.index, format= '%b %y') # date index transforming\n",
    "sp500_futures.index = sp500_futures.index + pd.offsets.MonthEnd()\n",
    "sp500_futures_rtn = sp500_futures['Change %']\n",
    "sp500_futures_rtn= sp500_futures_rtn.str.replace('%','') # remove str % from value\n",
    "sp500_futures_rtn = pd.to_numeric(sp500_futures_rtn, errors='coerce')\n",
    "sp500_futures_rtn.fillna(0, inplace=True)\n",
    "sp500_futures_rtn = sp500_futures_rtn.iloc[::-1]\n",
    "sp500_futures_rtn.drop(sp500_futures_rtn.tail(1).index,inplace=True) # adjusting size to match stocks month"
   ]
  },
  {
   "cell_type": "markdown",
   "metadata": {},
   "source": [
    "Get data of S&P500"
   ]
  },
  {
   "cell_type": "code",
   "execution_count": null,
   "metadata": {},
   "outputs": [],
   "source": [
    "sp500 = quandl.get(\"MULTPL/SP500_REAL_PRICE_MONTH\", start_date='1961-10-01', end_date='2021-12-31', collapse=\"monthly\")\n",
    "sp500_quarter_rtn = sp500.resample(\"3M\").mean()\n",
    "sp500_quarter_rtn = sp500_quarter_rtn.pct_change()\n",
    "sp500_quarter_rtn = sp500_quarter_rtn.dropna()\n",
    "sp500_quarter_rtn.drop(sp500_quarter_rtn.tail(1).index,inplace=True)\n",
    "sp500_quarter_rtn = sp500_quarter_rtn.apply(lambda x: x* 100)"
   ]
  },
  {
   "cell_type": "markdown",
   "metadata": {},
   "source": [
    "### Probit model"
   ]
  },
  {
   "cell_type": "markdown",
   "metadata": {},
   "source": [
    "A probit regression is a version of the generalized linear model used to model dichotomous outcome variables. It uses the inverse standard normal distribution as a linear combination of the predictors. The binary outcome variable Y is assumed to have a Bernoulli distribution with parameter p (where the success probability is p∈(0,1). Hence, the probit link function is:\n",
    "$$ probit(Y) = \\sum_{k=0}^n \\beta_{k} x_{ik} $$"
   ]
  },
  {
   "cell_type": "markdown",
   "metadata": {},
   "source": [
    "The Probit model assumes that the firm’s probability of recession has a cumulative standard-normal distribution, rather than a logistic distribution. However, by multiplying the results of the logistic distribution by an appropriate coefficient the distribution of the Probit model can be obtained."
   ]
  },
  {
   "cell_type": "markdown",
   "metadata": {},
   "source": [
    "Implementing Probit model with only Term as explanatory variable"
   ]
  },
  {
   "cell_type": "code",
   "execution_count": 4,
   "metadata": {},
   "outputs": [
    {
     "name": "stdout",
     "output_type": "stream",
     "text": [
      "Optimization terminated successfully.\n",
      "         Current function value: 0.483062\n",
      "         Iterations 5\n"
     ]
    },
    {
     "data": {
      "text/html": [
       "<div>\n",
       "<style scoped>\n",
       "    .dataframe tbody tr th:only-of-type {\n",
       "        vertical-align: middle;\n",
       "    }\n",
       "\n",
       "    .dataframe tbody tr th {\n",
       "        vertical-align: top;\n",
       "    }\n",
       "\n",
       "    .dataframe thead th {\n",
       "        text-align: right;\n",
       "    }\n",
       "</style>\n",
       "<table border=\"1\" class=\"dataframe\">\n",
       "  <thead>\n",
       "    <tr style=\"text-align: right;\">\n",
       "      <th></th>\n",
       "      <th>coef</th>\n",
       "    </tr>\n",
       "  </thead>\n",
       "  <tbody>\n",
       "    <tr>\n",
       "      <th>term</th>\n",
       "      <td>-0.507303</td>\n",
       "    </tr>\n",
       "  </tbody>\n",
       "</table>\n",
       "</div>"
      ],
      "text/plain": [
       "          coef\n",
       "term -0.507303"
      ]
     },
     "execution_count": 4,
     "metadata": {},
     "output_type": "execute_result"
    }
   ],
   "source": [
    "X = term\n",
    "y = nber\n",
    "\n",
    "probit_model=sm.Probit(y,X)\n",
    "#result=probit_model.fit()\n",
    "#print(result.summary())\n",
    "params = pd.DataFrame(probit_model.fit().params,columns={'coef'},)\n",
    "params"
   ]
  },
  {
   "cell_type": "code",
   "execution_count": null,
   "metadata": {},
   "outputs": [],
   "source": [
    "term['y_pred'] = term * params['coef']\n",
    "term"
   ]
  },
  {
   "cell_type": "code",
   "execution_count": 6,
   "metadata": {},
   "outputs": [
    {
     "data": {
      "text/plain": [
       "0.9500150944608786"
      ]
     },
     "execution_count": 6,
     "metadata": {},
     "output_type": "execute_result"
    }
   ],
   "source": [
    "def normsdist(z):\n",
    "    z = si.norm.cdf(z,0.0,1.0)\n",
    "    return (z)\n",
    "normsdist(1.645)"
   ]
  },
  {
   "cell_type": "code",
   "execution_count": 22,
   "metadata": {},
   "outputs": [],
   "source": [
    "term['y_pred_Probit'] = normsdist(term['y_pred'])"
   ]
  },
  {
   "cell_type": "code",
   "execution_count": null,
   "metadata": {},
   "outputs": [],
   "source": [
    "term_plot = term.reset_index().rename(columns={'index': 'date'})\n",
    "term_plot"
   ]
  },
  {
   "cell_type": "code",
   "execution_count": 21,
   "metadata": {},
   "outputs": [
    {
     "data": {
      "text/plain": [
       "(-2922.0, 19052.0)"
      ]
     },
     "execution_count": 21,
     "metadata": {},
     "output_type": "execute_result"
    },
    {
     "data": {
      "image/png": "[encoded data removed]",
      "text/plain": [
       "<Figure size 576x360 with 1 Axes>"
      ]
     },
     "metadata": {
      "needs_background": "light"
     },
     "output_type": "display_data"
    }
   ],
   "source": [
    "fig, ax = plt.subplots(figsize=(10,6))\n",
    "ax.plot(term_plot['date'],term_plot['y_pred_Probit'])\n",
    "nber_plot.plot.area(ax=ax, figsize=(8, 5), x='date', alpha=0.3, color=\"gray\")\n",
    "ax.legend()\n",
    "ax.set_ylabel('Probability')\n",
    "ax.set_title('Predictive power of slope of yield cuve', size=18)\n",
    "plt.xlim(\"1962-01-01\", \"2022-03-01\")"
   ]
  }
 ],
 "metadata": {
  "interpreter": {
   "hash": "655b934297ea95474237e21d64939816d9d8fb66ad0275d6d652a001de804914"
  },
  "kernelspec": {
   "display_name": "Python 3.10.3 64-bit",
   "language": "python",
   "name": "python3"
  },
  "language_info": {
   "codemirror_mode": {
    "name": "ipython",
    "version": 3
   },
   "file_extension": ".py",
   "mimetype": "text/x-python",
   "name": "python",
   "nbconvert_exporter": "python",
   "pygments_lexer": "ipython3",
   "version": "3.10.3"
  },
  "orig_nbformat": 4
 },
 "nbformat": 4,
 "nbformat_minor": 2
}
